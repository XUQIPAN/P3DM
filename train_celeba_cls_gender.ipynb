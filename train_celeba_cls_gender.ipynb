{
 "cells": [
  {
   "cell_type": "code",
   "execution_count": 2,
   "id": "cb0e4703",
   "metadata": {},
   "outputs": [],
   "source": [
    "from tqdm import tqdm\n",
    "import torchvision\n",
    "from glob import glob\n",
    "import os\n",
    "import matplotlib.pyplot as plt\n",
    "%matplotlib inline\n",
    "from torchvision import transforms\n",
    "import torch\n",
    "from torch.autograd import Variable\n",
    "import torch.nn as nn\n",
    "from torch import optim\n",
    "import numpy as np\n",
    "from PIL import Image\n",
    "from torchvision.datasets import CelebA\n",
    "import torch.nn.functional as F\n",
    "from pprint import pprint"
   ]
  },
  {
   "cell_type": "code",
   "execution_count": 3,
   "id": "a6286a7f",
   "metadata": {},
   "outputs": [],
   "source": [
    "import os\n",
    "os.environ[\"CUDA_VISIBLE_DEVICES\"] = '3, 4'"
   ]
  },
  {
   "cell_type": "code",
   "execution_count": 4,
   "id": "b5500115",
   "metadata": {},
   "outputs": [],
   "source": [
    "train_transform = transforms.Compose([\n",
    "    transforms.Resize((128,128)),\n",
    "    transforms.ToTensor()\n",
    "])\n",
    "test_transform = transforms.Compose([\n",
    "    transforms.Resize((128,128)),\n",
    "    transforms.ToTensor()\n",
    "])"
   ]
  },
  {
   "cell_type": "code",
   "execution_count": 5,
   "id": "27265a49",
   "metadata": {},
   "outputs": [],
   "source": [
    "class CelebA_Male(CelebA):\n",
    "    def __getitem__(self, index):\n",
    "        X = Image.open(os.path.join(self.root, self.base_folder, \"img_align_celeba\", self.filename[index]))\n",
    "\n",
    "        target = []\n",
    "        for t in self.target_type:\n",
    "            if t == \"attr\":\n",
    "                target.append(self.attr[index, 20:21]) # Male\n",
    "            elif t == \"identity\":\n",
    "                target.append(self.identity[index, 0])\n",
    "            elif t == \"bbox\":\n",
    "                target.append(self.bbox[index, :])\n",
    "            elif t == \"landmarks\":\n",
    "                target.append(self.landmarks_align[index, :])\n",
    "            else:\n",
    "                raise ValueError(\"Target type \\\"{}\\\" is not recognized.\".format(t))\n",
    "        target = tuple(target) if len(target) > 1 else target[0]\n",
    "\n",
    "        if self.transform is not None:\n",
    "            X = self.transform(X)\n",
    "\n",
    "        if self.target_transform is not None:\n",
    "            target = self.target_transform(target)\n",
    "\n",
    "        return X, target"
   ]
  },
  {
   "cell_type": "code",
   "execution_count": 6,
   "id": "0dbc6fb5",
   "metadata": {},
   "outputs": [
    {
     "name": "stdout",
     "output_type": "stream",
     "text": [
      "1627\n"
     ]
    }
   ],
   "source": [
    "train_dl = CelebA_Male(root=\"/data/local/qipan/exp_celeba/datasets/celeba\", download=False, transform=train_transform)\n",
    "# valid_dl = CelebA_Male(root=\"/data/local/qipan/exp_celeba/datasets/celeba\", download=False, transform=test_transform)\n",
    "val_num = train_dl.__len__()//100\n",
    "_, valid_dl = torch.utils.data.random_split(train_dl, [train_dl.__len__()-val_num, val_num])\n",
    "print(valid_dl.__len__())"
   ]
  },
  {
   "cell_type": "code",
   "execution_count": 7,
   "id": "595a9d8e",
   "metadata": {},
   "outputs": [],
   "source": [
    "x, y = train_dl[0]"
   ]
  },
  {
   "cell_type": "code",
   "execution_count": 8,
   "id": "675fb1cb",
   "metadata": {},
   "outputs": [
    {
     "data": {
      "text/plain": [
       "torch.Size([3, 128, 128])"
      ]
     },
     "execution_count": 8,
     "metadata": {},
     "output_type": "execute_result"
    }
   ],
   "source": [
    "x.shape"
   ]
  },
  {
   "cell_type": "code",
   "execution_count": 10,
   "id": "e98ecbc5",
   "metadata": {},
   "outputs": [
    {
     "data": {
      "text/plain": [
       "tensor([0])"
      ]
     },
     "execution_count": 10,
     "metadata": {},
     "output_type": "execute_result"
    }
   ],
   "source": [
    "y, y.shape"
   ]
  },
  {
   "cell_type": "code",
   "execution_count": 14,
   "id": "c99793bc",
   "metadata": {},
   "outputs": [
    {
     "data": {
      "text/plain": [
       "tensor([0.])"
      ]
     },
     "execution_count": 14,
     "metadata": {},
     "output_type": "execute_result"
    }
   ],
   "source": [
    "k = torch.zeros((1))\n",
    "k"
   ]
  },
  {
   "cell_type": "code",
   "execution_count": null,
   "id": "aa52cf8d",
   "metadata": {},
   "outputs": [],
   "source": [
    "plt.imshow(torchvision.utils.make_grid(train_dl[0][0]).permute(1, 2, 0))"
   ]
  },
  {
   "cell_type": "code",
   "execution_count": null,
   "id": "b9d7f81d",
   "metadata": {},
   "outputs": [],
   "source": [
    "class MultiClassifier(nn.Module):\n",
    "    def __init__(self):\n",
    "        super(MultiClassifier, self).__init__()\n",
    "        self.ConvLayer1 = nn.Sequential(\n",
    "            nn.Conv2d(3, 64, 3), # 3, 256, 256\n",
    "            nn.MaxPool2d(2), # op: 16, 127, 127\n",
    "            nn.ReLU(), # op: 64, 127, 127\n",
    "        )\n",
    "        self.ConvLayer2 = nn.Sequential(\n",
    "            nn.Conv2d(64, 128, 3), # 64, 127, 127   \n",
    "            nn.MaxPool2d(2), #op: 128, 63, 63\n",
    "            nn.ReLU() # op: 128, 63, 63\n",
    "        )\n",
    "        self.ConvLayer3 = nn.Sequential(\n",
    "            nn.Conv2d(128, 256, 3), # 128, 63, 63\n",
    "            nn.MaxPool2d(2), #op: 256, 30, 30\n",
    "            nn.ReLU() #op: 256, 30, 30\n",
    "        )\n",
    "        \n",
    "        self.Linear1 = nn.Linear(256*14*14, 64)\n",
    "        self.Linear2 = nn.Linear(64, 2)\n",
    "                \n",
    "        \n",
    "    def forward(self, x):\n",
    "        x = self.ConvLayer1(x)\n",
    "        x = self.ConvLayer2(x)\n",
    "        x = self.ConvLayer3(x)\n",
    "\n",
    "        x = x.view(x.size(0), -1)\n",
    "        x = self.Linear1(x)\n",
    "        x = self.Linear2(x)\n",
    "        return F.softmax(x)"
   ]
  },
  {
   "cell_type": "code",
   "execution_count": null,
   "id": "051cb435",
   "metadata": {},
   "outputs": [],
   "source": [
    "def check_cuda():\n",
    "    _cuda = False\n",
    "    if torch.cuda.is_available():\n",
    "        _cuda = True\n",
    "    return _cuda"
   ]
  },
  {
   "cell_type": "code",
   "execution_count": null,
   "id": "b24e2b34",
   "metadata": {},
   "outputs": [],
   "source": [
    "is_cuda = check_cuda()\n",
    "\n",
    "model = MultiClassifier()\n",
    "if is_cuda:\n",
    "    model.cuda()"
   ]
  },
  {
   "cell_type": "code",
   "execution_count": null,
   "id": "307a18c7",
   "metadata": {},
   "outputs": [],
   "source": [
    "x = train_dl[0][0].unsqueeze(0).cuda()"
   ]
  },
  {
   "cell_type": "code",
   "execution_count": null,
   "id": "410b7747",
   "metadata": {},
   "outputs": [],
   "source": [
    "x.shape"
   ]
  },
  {
   "cell_type": "code",
   "execution_count": null,
   "id": "10b9c534",
   "metadata": {},
   "outputs": [],
   "source": [
    "model(x).shape"
   ]
  },
  {
   "cell_type": "code",
   "execution_count": null,
   "id": "e7d9bbaa",
   "metadata": {},
   "outputs": [],
   "source": [
    "train_dataloader = torch.utils.data.DataLoader(train_dl, shuffle = True, batch_size = 4, num_workers = 4)\n",
    "valid_dataloader = torch.utils.data.DataLoader(valid_dl, shuffle = True, batch_size = 4, num_workers = 4)"
   ]
  },
  {
   "cell_type": "code",
   "execution_count": null,
   "id": "1277172e",
   "metadata": {},
   "outputs": [],
   "source": [
    "def pred_acc(original, predicted):\n",
    "    return torch.round(predicted).eq(original).sum().numpy()/len(original)\n"
   ]
  },
  {
   "cell_type": "code",
   "execution_count": null,
   "id": "4592b320",
   "metadata": {},
   "outputs": [],
   "source": [
    "criterion = nn.BCELoss()\n",
    "# criterion = nn.CrossEntropyLoss()\n",
    "# optimizer = optim.SGD(model.parameters(), lr = 0.001, momentum = 0.9)\n",
    "optimizer = optim.Adam(model.parameters(), lr = 0.001, weight_decay = 0.01)\n"
   ]
  },
  {
   "cell_type": "code",
   "execution_count": null,
   "id": "ce1e573d",
   "metadata": {},
   "outputs": [],
   "source": [
    "def fit_model(epochs, model, dataloader, phase = 'training', volatile = False):\n",
    "    \n",
    "    pprint(\"Epoch: {}\".format(epochs))\n",
    "\n",
    "    if phase == 'training':\n",
    "        model.train()\n",
    "        \n",
    "    if phase == 'validataion':\n",
    "        model.eval()\n",
    "        volatile = True\n",
    "        \n",
    "    running_loss = []\n",
    "    running_acc = []\n",
    "    b = 0\n",
    "    for i, data in enumerate(dataloader):\n",
    "        inputs, target = data[0].cuda(), torch.eye(2)[data[1]].squeeze().cuda() \n",
    "        inputs, target = Variable(inputs), Variable(target)\n",
    "        \n",
    "        if phase == 'training':\n",
    "            optimizer.zero_grad()\n",
    "            \n",
    "        ops = model(inputs)\n",
    "        \n",
    "        acc_ = []\n",
    "        for i, d in enumerate(ops):\n",
    "           \n",
    "            acc = pred_acc(torch.Tensor.cpu(target[i]), torch.Tensor.cpu(d))\n",
    "            acc_.append(acc)\n",
    "\n",
    "        loss = criterion(ops, target)\n",
    "                \n",
    "        running_loss.append(loss.item())\n",
    "        running_acc.append(np.asarray(acc_).mean())\n",
    "        b += 1\n",
    "       \n",
    "        if phase == 'training':\n",
    "            \n",
    "            loss.backward()\n",
    "        \n",
    "            optimizer.step()\n",
    "            \n",
    "    total_batch_loss = np.asarray(running_loss).mean()\n",
    "    total_batch_acc = np.asarray(running_acc).mean()\n",
    "    \n",
    "\n",
    "    pprint(\"{} loss is {} \".format(phase,total_batch_loss))\n",
    "    pprint(\"{} accuracy is {} \".format(phase, total_batch_acc))\n",
    "    \n",
    "    return total_batch_loss, total_batch_acc\n"
   ]
  },
  {
   "cell_type": "code",
   "execution_count": null,
   "id": "590c8677",
   "metadata": {},
   "outputs": [],
   "source": [
    "inputs, target = next(iter(train_dataloader))"
   ]
  },
  {
   "cell_type": "code",
   "execution_count": null,
   "id": "ec978b7e",
   "metadata": {},
   "outputs": [],
   "source": [
    "ops = model(inputs.cuda())"
   ]
  },
  {
   "cell_type": "code",
   "execution_count": null,
   "id": "ba678340",
   "metadata": {},
   "outputs": [],
   "source": [
    "trn_losses = []; trn_acc = []\n",
    "val_losses = []; val_acc = []\n"
   ]
  },
  {
   "cell_type": "code",
   "execution_count": null,
   "id": "0cb444bc",
   "metadata": {},
   "outputs": [],
   "source": [
    "torch.cuda.empty_cache()\n",
    "for i in tqdm(range(100)):\n",
    "    trn_l, trn_a = fit_model(i, model, train_dataloader)\n",
    "    val_l, val_a = fit_model(i, model, valid_dataloader, phase = 'validation')\n",
    "    trn_losses.append(trn_l); trn_acc.append(trn_a)\n",
    "    val_losses.append(val_l); val_acc.append(val_a)\n"
   ]
  },
  {
   "cell_type": "code",
   "execution_count": null,
   "id": "e6ef9be3",
   "metadata": {},
   "outputs": [],
   "source": [
    "torch.save(model.state_dict(), '/data/local/qipan/exp_celeba/celeba_cls_gender.pth')"
   ]
  },
  {
   "cell_type": "code",
   "execution_count": null,
   "id": "c100b32b",
   "metadata": {},
   "outputs": [],
   "source": [
    "model.state_dict()"
   ]
  },
  {
   "cell_type": "code",
   "execution_count": null,
   "id": "37362393",
   "metadata": {},
   "outputs": [],
   "source": []
  }
 ],
 "metadata": {
  "kernelspec": {
   "display_name": "Python 3 (ipykernel)",
   "language": "python",
   "name": "python3"
  },
  "language_info": {
   "codemirror_mode": {
    "name": "ipython",
    "version": 3
   },
   "file_extension": ".py",
   "mimetype": "text/x-python",
   "name": "python",
   "nbconvert_exporter": "python",
   "pygments_lexer": "ipython3",
   "version": "3.8.10"
  }
 },
 "nbformat": 4,
 "nbformat_minor": 5
}
