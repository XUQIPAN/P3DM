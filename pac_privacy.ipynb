{
 "cells": [
  {
   "cell_type": "code",
   "execution_count": 1,
   "metadata": {},
   "outputs": [],
   "source": [
    "import numpy as np\n",
    "\n",
    "def confidence_noise_determination(img, D, m, c, v, beta):\n",
    "    \"\"\"\n",
    "    Parameters:\n",
    "    M: deterministic mechanism\n",
    "    D: data distribution\n",
    "    m: sampling complexity\n",
    "    c, v, beta: constants\n",
    "\n",
    "    Returns:\n",
    "    Gaussian covariance matrix ΣB\n",
    "    \"\"\"\n",
    "\n",
    "    # Step 2: Independently generate data\n",
    "    y = img\n",
    "\n",
    "    # Step 6: Calculate empirical mean and empirical covariance estimation\n",
    "    mu_hat = np.mean(img, axis=(0, 3))\n",
    "    empirical_cov = np.var(img, axis=(0, 3))\n",
    "\n",
    "    # Step 7: Apply singular value decomposition (SVD)\n",
    "    U, Lambda, UT = np.linalg.svd(empirical_cov)\n",
    "    \n",
    "    # Step 8: Determine the maximal index j0\n",
    "    j0 = np.argmin([lambd for lambd in Lambda if lambd > c])\n",
    "    \n",
    "    # Step 9: Check the condition\n",
    "    condition = np.min([np.abs(Lambda[j] - lambd)for j in range(1, j0 + 1) for lambd in Lambda]) > r * np.sqrt(len(Lambda) * c) + 2 * c\n",
    "    \n",
    "    if condition:\n",
    "        # Step 10 & 11: Determine the j-th element of a diagonal matrix ΛB\n",
    "        sqrt_sum = sum(np.sqrt(Lambda[j] + 10 * c * v/ beta) for j in range(len(Lambda)))\n",
    "        Lambda_B = [2 * v / np.sqrt(Lambda[j] + 10 * c * v/ beta) * sqrt_sum for j in range(len(Lambda))]\n",
    "        ΛB = np.diag(Lambda_B)\n",
    "\n",
    "        # Step 13: Determine the Gaussian noise covariance\n",
    "        ΣB = U @ np.linalg.inv(ΛB) @ UT\n",
    "\n",
    "    else:\n",
    "        # Step 15: Determine the Gaussian noise covariance\n",
    "        ΣB = (sum(Lambda) + len(Lambda) * c) / (2 * v) * np.eye(len(Lambda))\n",
    "\n",
    "    return ΣB\n"
   ]
  },
  {
   "cell_type": "code",
   "execution_count": 2,
   "metadata": {},
   "outputs": [],
   "source": [
    "import os\n",
    "from PIL import Image"
   ]
  },
  {
   "cell_type": "code",
   "execution_count": 3,
   "metadata": {},
   "outputs": [],
   "source": [
    "img_dir = '/data/local/qipan/exp_celeba/fid_samples_larger_batch_2/images_exp_10/smile/ckpt_300000'\n",
    "img = [Image.open(os.path.join(img_dir, f)) for f in os.listdir(img_dir)]\n",
    "img = np.array([np.array(i) for i in img])"
   ]
  },
  {
   "cell_type": "code",
   "execution_count": 4,
   "metadata": {},
   "outputs": [
    {
     "data": {
      "text/plain": [
       "(300, 64, 64, 3)"
      ]
     },
     "execution_count": 4,
     "metadata": {},
     "output_type": "execute_result"
    }
   ],
   "source": [
    "img.shape"
   ]
  },
  {
   "cell_type": "code",
   "execution_count": 5,
   "metadata": {},
   "outputs": [],
   "source": [
    "mu_hat = np.mean(img, axis=(0, 3))\n",
    "empirical_cov = np.var(img, axis=(0, 3))"
   ]
  },
  {
   "cell_type": "code",
   "execution_count": 6,
   "metadata": {},
   "outputs": [
    {
     "data": {
      "text/plain": [
       "(64, 64)"
      ]
     },
     "execution_count": 6,
     "metadata": {},
     "output_type": "execute_result"
    }
   ],
   "source": [
    "mu_hat.shape"
   ]
  },
  {
   "cell_type": "code",
   "execution_count": 7,
   "metadata": {},
   "outputs": [],
   "source": [
    "U, Lambda, UT = np.linalg.svd(empirical_cov)"
   ]
  },
  {
   "cell_type": "code",
   "execution_count": 8,
   "metadata": {},
   "outputs": [],
   "source": [
    "j0 = np.argmin([lambd for lambd in Lambda if lambd > 20])\n",
    "condition = np.min([np.abs(Lambda[j] - lambd)for j in range(j0 + 1) for lambd in Lambda]) > 1500 * np.sqrt(len(Lambda) * 20) + 2 * 20\n"
   ]
  },
  {
   "cell_type": "code",
   "execution_count": 9,
   "metadata": {},
   "outputs": [
    {
     "data": {
      "text/plain": [
       "False"
      ]
     },
     "execution_count": 9,
     "metadata": {},
     "output_type": "execute_result"
    }
   ],
   "source": [
    "condition"
   ]
  },
  {
   "cell_type": "code",
   "execution_count": 10,
   "metadata": {},
   "outputs": [
    {
     "data": {
      "text/plain": [
       "array([3.16958464e+05, 1.82707017e+04, 1.52293405e+04, 8.56201268e+03,\n",
       "       4.06805894e+03, 3.35912451e+03, 2.90601713e+03, 2.58754395e+03,\n",
       "       2.07750040e+03, 1.87754155e+03, 1.80099727e+03, 1.59036000e+03,\n",
       "       1.38040969e+03, 1.31585009e+03, 1.25248656e+03, 1.18059484e+03,\n",
       "       1.08709934e+03, 1.02204413e+03, 9.49837709e+02, 8.42380330e+02,\n",
       "       8.33120373e+02, 7.76822059e+02, 7.51962344e+02, 6.74389237e+02,\n",
       "       6.48737302e+02, 6.07517126e+02, 5.76689662e+02, 5.56027967e+02,\n",
       "       5.37717156e+02, 4.98210727e+02, 4.76233509e+02, 4.67745595e+02,\n",
       "       4.25451191e+02, 3.95458731e+02, 3.69005804e+02, 3.44696076e+02,\n",
       "       3.20466810e+02, 3.06256695e+02, 2.92507743e+02, 2.75177221e+02,\n",
       "       2.48874389e+02, 2.44152626e+02, 2.18953983e+02, 2.12301174e+02,\n",
       "       2.02348752e+02, 1.87058454e+02, 1.85877551e+02, 1.57261155e+02,\n",
       "       1.47719867e+02, 1.36235561e+02, 1.28273276e+02, 1.22289683e+02,\n",
       "       1.17965373e+02, 8.92001814e+01, 8.48042427e+01, 7.68762316e+01,\n",
       "       6.22166343e+01, 5.90676194e+01, 5.00908620e+01, 3.94062324e+01,\n",
       "       3.13323720e+01, 2.01043966e+01, 6.60345054e+00, 1.87484917e+00])"
      ]
     },
     "execution_count": 10,
     "metadata": {},
     "output_type": "execute_result"
    }
   ],
   "source": [
    "Lambda"
   ]
  },
  {
   "cell_type": "code",
   "execution_count": 11,
   "metadata": {},
   "outputs": [
    {
     "data": {
      "text/plain": [
       "3768.126855614073"
      ]
     },
     "execution_count": 11,
     "metadata": {},
     "output_type": "execute_result"
    }
   ],
   "source": [
    "np.max(np.linalg.norm(img, axis=0))"
   ]
  },
  {
   "cell_type": "code",
   "execution_count": 12,
   "metadata": {},
   "outputs": [],
   "source": [
    "ΣB = (sum(Lambda) + len(Lambda) * 20) / (2 * 0.5) * np.eye(len(Lambda))"
   ]
  },
  {
   "cell_type": "code",
   "execution_count": 13,
   "metadata": {},
   "outputs": [
    {
     "data": {
      "text/plain": [
       "3220507.5829606145"
      ]
     },
     "execution_count": 13,
     "metadata": {},
     "output_type": "execute_result"
    }
   ],
   "source": [
    "np.mean(np.linalg.norm(ΣB))"
   ]
  },
  {
   "cell_type": "code",
   "execution_count": 14,
   "metadata": {},
   "outputs": [],
   "source": [
    "empirical_cov = np.var(img, axis=(0, 3))"
   ]
  },
  {
   "cell_type": "code",
   "execution_count": 15,
   "metadata": {},
   "outputs": [
    {
     "data": {
      "text/plain": [
       "array([[7037.31971728, 6907.88371728, 7080.88888889, ..., 7928.89207284,\n",
       "        7963.10564321, 8066.39385062],\n",
       "       [7071.87959877, 6847.89251358, 6983.75723951, ..., 7841.65751111,\n",
       "        7834.80384691, 7807.0293284 ],\n",
       "       [7016.53416667, 6914.55694321, 6919.8156284 , ..., 7612.70134691,\n",
       "        7667.31755432, 7639.54560988],\n",
       "       ...,\n",
       "       [7142.99486914, 6763.4419    , 6521.67434444, ..., 7503.39718025,\n",
       "        7602.0033321 , 7795.26016173],\n",
       "       [6702.3335358 , 6406.01826667, 6422.8265321 , ..., 7352.94101111,\n",
       "        7546.21728395, 7831.82760988],\n",
       "       [6534.06666667, 6525.8476284 , 6541.75246914, ..., 7521.56540617,\n",
       "        7467.32817778, 8000.25043333]])"
      ]
     },
     "execution_count": 15,
     "metadata": {},
     "output_type": "execute_result"
    }
   ],
   "source": [
    "empirical_cov"
   ]
  },
  {
   "cell_type": "code",
   "execution_count": 16,
   "metadata": {},
   "outputs": [],
   "source": [
    "c = 20\n",
    "v = 0.5\n",
    "beta = 0.5\n",
    "sqrt_sum = sum(np.sqrt(Lambda[j] + 10 * c * v/ beta) for j in range(len(Lambda)))\n",
    "Lambda_B = [2 * v / np.sqrt(Lambda[j] + 10 * c * v/ beta) * sqrt_sum for j in range(len(Lambda))]\n",
    "ΛB = np.diag(Lambda_B)\n",
    "\n",
    "        # Step 13: Determine the Gaussian noise covariance\n",
    "ΣB = U @ np.linalg.inv(ΛB) @ UT"
   ]
  },
  {
   "cell_type": "code",
   "execution_count": 17,
   "metadata": {},
   "outputs": [
    {
     "data": {
      "text/plain": [
       "0.24992504301452273"
      ]
     },
     "execution_count": 17,
     "metadata": {},
     "output_type": "execute_result"
    }
   ],
   "source": [
    "np.linalg.norm(ΣB)"
   ]
  },
  {
   "cell_type": "code",
   "execution_count": 18,
   "metadata": {},
   "outputs": [
    {
     "data": {
      "text/plain": [
       "(64, 64)"
      ]
     },
     "execution_count": 18,
     "metadata": {},
     "output_type": "execute_result"
    }
   ],
   "source": [
    "ΣB.shape"
   ]
  },
  {
   "cell_type": "code",
   "execution_count": 19,
   "metadata": {},
   "outputs": [
    {
     "data": {
      "text/plain": [
       "0.0"
      ]
     },
     "execution_count": 19,
     "metadata": {},
     "output_type": "execute_result"
    }
   ],
   "source": [
    "np.min([np.abs(Lambda[j] - lambd)for j in range(j0 + 1) for lambd in Lambda])"
   ]
  },
  {
   "cell_type": "code",
   "execution_count": null,
   "metadata": {},
   "outputs": [
    {
     "ename": "NameError",
     "evalue": "name 'lambd' is not defined",
     "output_type": "error",
     "traceback": [
      "\u001b[0;31m---------------------------------------------------------------------------\u001b[0m",
      "\u001b[0;31mNameError\u001b[0m                                 Traceback (most recent call last)",
      "\u001b[1;32m/common/home/qx67/Desktop/dpgen/DPgan_model/pac_privacy.ipynb Cell 20\u001b[0m line \u001b[0;36m1\n\u001b[0;32m----> <a href='vscode-notebook-cell://ssh-remote%2Bml01.cs.rutgers.edu/common/home/qx67/Desktop/dpgen/DPgan_model/pac_privacy.ipynb#X25sdnNjb2RlLXJlbW90ZQ%3D%3D?line=0'>1</a>\u001b[0m [np\u001b[39m.\u001b[39mabs(Lambda[j] \u001b[39m-\u001b[39m lambd)\u001b[39mfor\u001b[39;00m j \u001b[39min\u001b[39;00m \u001b[39mrange\u001b[39m(j0 \u001b[39m+\u001b[39m \u001b[39m1\u001b[39m) \u001b[39mfor\u001b[39;00m j \u001b[39min\u001b[39;00m \u001b[39mrange\u001b[39m(j0 \u001b[39m+\u001b[39m \u001b[39m1\u001b[39m, \u001b[39mlen\u001b[39m(Lambda))]\n",
      "\u001b[1;32m/common/home/qx67/Desktop/dpgen/DPgan_model/pac_privacy.ipynb Cell 20\u001b[0m line \u001b[0;36m1\n\u001b[0;32m----> <a href='vscode-notebook-cell://ssh-remote%2Bml01.cs.rutgers.edu/common/home/qx67/Desktop/dpgen/DPgan_model/pac_privacy.ipynb#X25sdnNjb2RlLXJlbW90ZQ%3D%3D?line=0'>1</a>\u001b[0m [np\u001b[39m.\u001b[39mabs(Lambda[j] \u001b[39m-\u001b[39m lambd)\u001b[39mfor\u001b[39;00m j \u001b[39min\u001b[39;00m \u001b[39mrange\u001b[39m(j0 \u001b[39m+\u001b[39m \u001b[39m1\u001b[39m) \u001b[39mfor\u001b[39;00m j \u001b[39min\u001b[39;00m \u001b[39mrange\u001b[39m(j0 \u001b[39m+\u001b[39m \u001b[39m1\u001b[39m, \u001b[39mlen\u001b[39m(Lambda))]\n",
      "\u001b[0;31mNameError\u001b[0m: name 'lambd' is not defined"
     ]
    }
   ],
   "source": [
    "[np.abs(Lambda[j] - Lambda[l])for j in range(j0 + 1) for l in range(j0 + 1, len(Lambda))]"
   ]
  },
  {
   "cell_type": "code",
   "execution_count": null,
   "metadata": {},
   "outputs": [],
   "source": []
  }
 ],
 "metadata": {
  "kernelspec": {
   "display_name": ".venv",
   "language": "python",
   "name": "python3"
  },
  "language_info": {
   "codemirror_mode": {
    "name": "ipython",
    "version": 3
   },
   "file_extension": ".py",
   "mimetype": "text/x-python",
   "name": "python",
   "nbconvert_exporter": "python",
   "pygments_lexer": "ipython3",
   "version": "3.8.10"
  }
 },
 "nbformat": 4,
 "nbformat_minor": 2
}
