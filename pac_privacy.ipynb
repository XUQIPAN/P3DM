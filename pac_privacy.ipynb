{
 "cells": [
  {
   "cell_type": "code",
   "execution_count": 290,
   "metadata": {},
   "outputs": [],
   "source": [
    "import numpy as np\n",
    "\n",
    "def confidence_noise_determination(img, c, v, beta, r):\n",
    "    \"\"\"\n",
    "    Parameters:\n",
    "    M: deterministic mechanism\n",
    "    D: data distribution\n",
    "    m: sampling complexity\n",
    "    c, v, beta: constants\n",
    "\n",
    "    Returns:\n",
    "    Gaussian covariance matrix ΣB\n",
    "    \"\"\"\n",
    "\n",
    "    # Step 6: Calculate empirical mean and empirical covariance estimation\n",
    "    mu_hat = np.mean(img, axis=0)\n",
    "    empirical_cov = np.var(img, axis=0)\n",
    "\n",
    "    # Step 7: Apply singular value decomposition (SVD)\n",
    "    U, Lambda, UT = np.linalg.svd(empirical_cov)\n",
    "    # print(Lambda)\n",
    "    \n",
    "    # Step 8: Determine the maximal index j0\n",
    "    if c > np.max(Lambda):\n",
    "        condition = False\n",
    "    else:\n",
    "        j0 = np.argmin([lambd for lambd in Lambda if lambd > c])\n",
    "    \n",
    "        # Step 9: Check the condition\n",
    "        condition = np.min([np.abs(Lambda[j] - Lambda[l])for j in range(j0 + 1) for l in range(j + 1, len(Lambda))]) > r * np.sqrt(len(Lambda) * c) + 2 * c\n",
    "    \n",
    "    if condition:\n",
    "        # Step 10 & 11: Determine the j-th element of a diagonal matrix ΛB\n",
    "        sqrt_sum = sum(np.sqrt(Lambda[j] + 10 * c * v/ beta) for j in range(len(Lambda)))\n",
    "        Lambda_B = [2 * v / (np.sqrt(Lambda[j] + 10 * c * v/ beta) * sqrt_sum) for j in range(len(Lambda))]\n",
    "        ΛB = np.diag(Lambda_B)\n",
    "\n",
    "        # Step 13: Determine the Gaussian noise covariance\n",
    "        ΣB = U @ np.linalg.inv(ΛB) @ UT\n",
    "\n",
    "    else:\n",
    "        # Step 15: Determine the Gaussian noise covariance\n",
    "        ΣB = (sum(Lambda) + len(Lambda) * c) / (2 * v) * np.eye(len(Lambda))\n",
    "\n",
    "    return ΣB\n"
   ]
  },
  {
   "cell_type": "code",
   "execution_count": 291,
   "metadata": {},
   "outputs": [],
   "source": [
    "import os\n",
    "from PIL import Image, ImageOps "
   ]
  },
  {
   "cell_type": "code",
   "execution_count": 292,
   "metadata": {},
   "outputs": [],
   "source": [
    "img_dir = '/data/local/qipan/exp_celeba/fid_samples_larger_batch_2/images_exp_10/attractive/ckpt_300000'\n",
    "img = [ImageOps.grayscale(Image.open(os.path.join(img_dir, f))) for f in os.listdir(img_dir)]\n",
    "img = np.array([np.array(i) for i in img])"
   ]
  },
  {
   "cell_type": "code",
   "execution_count": 293,
   "metadata": {},
   "outputs": [
    {
     "data": {
      "text/plain": [
       "(1000, 64, 64)"
      ]
     },
     "execution_count": 293,
     "metadata": {},
     "output_type": "execute_result"
    }
   ],
   "source": [
    "img.shape"
   ]
  },
  {
   "cell_type": "code",
   "execution_count": 294,
   "metadata": {},
   "outputs": [],
   "source": [
    "img = (img - np.min(img, axis=0))/ (np.max(img, axis=0)- np.min(img, axis=0))"
   ]
  },
  {
   "cell_type": "code",
   "execution_count": 295,
   "metadata": {},
   "outputs": [],
   "source": [
    "empirical_cov = np.var(img, axis=0)"
   ]
  },
  {
   "cell_type": "code",
   "execution_count": 296,
   "metadata": {},
   "outputs": [
    {
     "data": {
      "text/plain": [
       "(64, 64)"
      ]
     },
     "execution_count": 296,
     "metadata": {},
     "output_type": "execute_result"
    }
   ],
   "source": [
    "empirical_cov.shape"
   ]
  },
  {
   "cell_type": "code",
   "execution_count": 297,
   "metadata": {},
   "outputs": [
    {
     "data": {
      "text/plain": [
       "array([[0.10783343, 0.10652024, 0.10708549, ..., 0.11586227, 0.1163765 ,\n",
       "        0.11867911],\n",
       "       [0.10817664, 0.10570074, 0.10601614, ..., 0.11445619, 0.11440364,\n",
       "        0.11613441],\n",
       "       [0.10759764, 0.10560437, 0.10402779, ..., 0.11260253, 0.11430152,\n",
       "        0.11625804],\n",
       "       ...,\n",
       "       [0.10570882, 0.10178702, 0.09829975, ..., 0.10656897, 0.10844319,\n",
       "        0.1101314 ],\n",
       "       [0.10409217, 0.10076563, 0.098434  , ..., 0.10646031, 0.10824437,\n",
       "        0.10930396],\n",
       "       [0.10423785, 0.10187556, 0.09987599, ..., 0.1077231 , 0.10871629,\n",
       "        0.11174058]])"
      ]
     },
     "execution_count": 297,
     "metadata": {},
     "output_type": "execute_result"
    }
   ],
   "source": [
    "empirical_cov"
   ]
  },
  {
   "cell_type": "code",
   "execution_count": 298,
   "metadata": {},
   "outputs": [],
   "source": [
    "import numpy as np\n",
    "\n",
    "# This is a placeholder for the actual sub-Gaussian norm computation.\n",
    "def subgaussian_norm(X):\n",
    "    # You would replace this with the actual calculation, which depends on the distribution of X.\n",
    "    # For example, for a standard normal variable, the sub-Gaussian norm is 1.\n",
    "    return 1\n",
    "\n",
    "def calculate_K(A):\n",
    "    # Assuming A is a 2D numpy array of random variables.\n",
    "    subgaussian_norms = np.array([[subgaussian_norm(A[i, j]) for j in range(A.shape[1])] for i in range(A.shape[0])])\n",
    "    K = np.max(subgaussian_norms)\n",
    "    return K\n",
    "\n",
    "# Example usage:\n",
    "# A = np.random.randn(m, n)  # This would be your m x n random matrix with sub-Gaussian entries.\n",
    "# K = calculate_K(A)\n",
    "# print(K)"
   ]
  },
  {
   "cell_type": "code",
   "execution_count": 299,
   "metadata": {},
   "outputs": [
    {
     "data": {
      "text/plain": [
       "1"
      ]
     },
     "execution_count": 299,
     "metadata": {},
     "output_type": "execute_result"
    }
   ],
   "source": [
    "calculate_K(img[0])"
   ]
  },
  {
   "cell_type": "code",
   "execution_count": 300,
   "metadata": {},
   "outputs": [
    {
     "name": "stdout",
     "output_type": "stream",
     "text": [
      "56.51987662029019\n"
     ]
    },
    {
     "data": {
      "text/plain": [
       "29.057910567178592"
      ]
     },
     "execution_count": 300,
     "metadata": {},
     "output_type": "execute_result"
    }
   ],
   "source": [
    "d = 64\n",
    "gamma = 0.5\n",
    "m = img.shape[0]\n",
    "r = np.max(np.linalg.norm(img, axis=(1,2)))\n",
    "print(r)\n",
    "c = r * (np.max([np.sqrt((d + np.log(4/gamma))/m), (d + np.log(4/gamma))/m]) + np.sqrt((d + np.log(4/gamma))/m))\n",
    "c"
   ]
  },
  {
   "cell_type": "code",
   "execution_count": 301,
   "metadata": {},
   "outputs": [],
   "source": [
    "# c = 1\n",
    "v = 0.5\n",
    "beta = 0.5\n",
    "ΣB = confidence_noise_determination(img, c, v, beta, r)"
   ]
  },
  {
   "cell_type": "code",
   "execution_count": 302,
   "metadata": {},
   "outputs": [
    {
     "data": {
      "text/plain": [
       "array([[1865.42122263,    0.        ,    0.        , ...,    0.        ,\n",
       "           0.        ,    0.        ],\n",
       "       [   0.        , 1865.42122263,    0.        , ...,    0.        ,\n",
       "           0.        ,    0.        ],\n",
       "       [   0.        ,    0.        , 1865.42122263, ...,    0.        ,\n",
       "           0.        ,    0.        ],\n",
       "       ...,\n",
       "       [   0.        ,    0.        ,    0.        , ..., 1865.42122263,\n",
       "           0.        ,    0.        ],\n",
       "       [   0.        ,    0.        ,    0.        , ...,    0.        ,\n",
       "        1865.42122263,    0.        ],\n",
       "       [   0.        ,    0.        ,    0.        , ...,    0.        ,\n",
       "           0.        , 1865.42122263]])"
      ]
     },
     "execution_count": 302,
     "metadata": {},
     "output_type": "execute_result"
    }
   ],
   "source": [
    "ΣB"
   ]
  },
  {
   "cell_type": "code",
   "execution_count": 303,
   "metadata": {},
   "outputs": [
    {
     "data": {
      "text/plain": [
       "(64, 64)"
      ]
     },
     "execution_count": 303,
     "metadata": {},
     "output_type": "execute_result"
    }
   ],
   "source": [
    "ΣB.shape"
   ]
  },
  {
   "cell_type": "code",
   "execution_count": 304,
   "metadata": {},
   "outputs": [],
   "source": [
    "B = np.random.multivariate_normal(np.zeros(d), ΣB, m)"
   ]
  },
  {
   "cell_type": "code",
   "execution_count": 305,
   "metadata": {},
   "outputs": [
    {
     "data": {
      "text/plain": [
       "array([[-2.90755080e+01, -5.58307464e+00,  5.68848965e+01, ...,\n",
       "         8.84992789e+00, -4.29453491e+01,  2.98019342e+01],\n",
       "       [-3.09257814e-01, -7.54811290e+01, -1.40987420e+01, ...,\n",
       "         2.33519696e+01, -9.88309215e+00, -1.59748082e+01],\n",
       "       [ 1.24842973e+01, -1.84669163e+01,  7.71649799e-02, ...,\n",
       "         7.19798498e+01,  4.59582348e+00, -5.82638597e+01],\n",
       "       ...,\n",
       "       [ 7.50279147e+01, -3.95651156e+01,  3.90375089e+01, ...,\n",
       "        -1.73166254e+01, -1.04513898e+02,  4.10215176e+01],\n",
       "       [ 5.39807790e+00, -3.64947818e+01, -2.72661970e+00, ...,\n",
       "         1.65864998e+00,  3.24644478e+01,  2.96363470e+01],\n",
       "       [ 1.38758207e+01, -1.94302140e+01,  2.37708890e+01, ...,\n",
       "        -3.37397871e+01, -1.85242238e+01,  3.27796217e+01]])"
      ]
     },
     "execution_count": 305,
     "metadata": {},
     "output_type": "execute_result"
    }
   ],
   "source": [
    "B"
   ]
  },
  {
   "cell_type": "code",
   "execution_count": 306,
   "metadata": {},
   "outputs": [
    {
     "data": {
      "text/plain": [
       "array([[-28.1264884 ,  -4.63405503,  57.84175929, ...,   9.84600632,\n",
       "        -41.95319224,  30.79409103],\n",
       "       [-28.11864527,  -4.63013346,  57.82215145, ...,   9.84208475,\n",
       "        -41.95711381,  30.79409103],\n",
       "       [-28.13433154,  -4.64581974,  57.79470047, ...,   9.84208475,\n",
       "        -41.95711381,  30.79016946],\n",
       "       ...,\n",
       "       [-28.07550801,  -4.58699621,  57.85744557, ...,   9.83032005,\n",
       "        -41.96495695,  30.77840475],\n",
       "       [-28.07550801,  -4.58307464,  57.87705341, ...,   9.83032005,\n",
       "        -41.96887852,  30.77840475],\n",
       "       [-28.07550801,  -4.58307464,  57.87313184, ...,   9.83032005,\n",
       "        -41.96887852,  30.77840475]])"
      ]
     },
     "execution_count": 306,
     "metadata": {},
     "output_type": "execute_result"
    }
   ],
   "source": [
    "img[0] + B[0]"
   ]
  },
  {
   "cell_type": "code",
   "execution_count": 307,
   "metadata": {},
   "outputs": [
    {
     "data": {
      "text/plain": [
       "344.0410737302445"
      ]
     },
     "execution_count": 307,
     "metadata": {},
     "output_type": "execute_result"
    }
   ],
   "source": [
    "np.mean(np.linalg.norm(B, axis=1))"
   ]
  },
  {
   "cell_type": "code",
   "execution_count": null,
   "metadata": {},
   "outputs": [],
   "source": []
  },
  {
   "cell_type": "code",
   "execution_count": null,
   "metadata": {},
   "outputs": [],
   "source": []
  }
 ],
 "metadata": {
  "kernelspec": {
   "display_name": "Python 3 (ipykernel)",
   "language": "python",
   "name": "python3"
  },
  "language_info": {
   "codemirror_mode": {
    "name": "ipython",
    "version": 3
   },
   "file_extension": ".py",
   "mimetype": "text/x-python",
   "name": "python",
   "nbconvert_exporter": "python",
   "pygments_lexer": "ipython3",
   "version": "3.8.10"
  }
 },
 "nbformat": 4,
 "nbformat_minor": 4
}
