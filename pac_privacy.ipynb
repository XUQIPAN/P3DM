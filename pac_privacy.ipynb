{
 "cells": [
  {
   "cell_type": "code",
   "execution_count": 673,
   "metadata": {},
   "outputs": [],
   "source": [
    "import numpy as np\n",
    "\n",
    "def confidence_noise_determination(img, c, v, beta, r):\n",
    "    \"\"\"\n",
    "    Parameters:\n",
    "    M: deterministic mechanism\n",
    "    D: data distribution\n",
    "    m: sampling complexity\n",
    "    c, v, beta: constants\n",
    "\n",
    "    Returns:\n",
    "    Gaussian covariance matrix ΣB\n",
    "    \"\"\"\n",
    "\n",
    "    # Step 6: Calculate empirical mean and empirical covariance estimation\n",
    "    mu_hat = np.mean(img, axis=0)\n",
    "    empirical_cov = np.var(img, axis=0)\n",
    "\n",
    "    # Step 7: Apply singular value decomposition (SVD)\n",
    "    U, Lambda, UT = np.linalg.svd(empirical_cov)\n",
    "    # print(Lambda)\n",
    "    \n",
    "    # Step 8: Determine the maximal index j0\n",
    "    if c > np.max(Lambda):\n",
    "        condition = False\n",
    "    else:\n",
    "        j0 = np.argmin([lambd for lambd in Lambda if lambd > c])\n",
    "    \n",
    "        # Step 9: Check the condition\n",
    "        condition = np.min([np.abs(Lambda[j] - Lambda[l])for j in range(j0 + 1) for l in range(j + 1, len(Lambda))]) > r * np.sqrt(len(Lambda) * c) + 2 * c\n",
    "    \n",
    "    if condition:\n",
    "        # Step 10 & 11: Determine the j-th element of a diagonal matrix ΛB\n",
    "        sqrt_sum = sum(np.sqrt(Lambda[j] + 10 * c * v/ beta) for j in range(len(Lambda)))\n",
    "        Lambda_B = [2 * v / (np.sqrt(Lambda[j] + 10 * c * v/ beta) * sqrt_sum) for j in range(len(Lambda))]\n",
    "        ΛB = np.diag(Lambda_B)\n",
    "\n",
    "        # Step 13: Determine the Gaussian noise covariance\n",
    "        ΣB = U @ np.linalg.inv(ΛB) @ UT\n",
    "\n",
    "    else:\n",
    "        # Step 15: Determine the Gaussian noise covariance\n",
    "        ΣB = (sum(Lambda) + len(Lambda) * c) / (2 * v) * np.eye(len(Lambda))\n",
    "\n",
    "    return ΣB\n"
   ]
  },
  {
   "cell_type": "code",
   "execution_count": 674,
   "metadata": {},
   "outputs": [],
   "source": [
    "import os\n",
    "from PIL import Image, ImageOps "
   ]
  },
  {
   "cell_type": "code",
   "execution_count": 675,
   "metadata": {},
   "outputs": [],
   "source": [
    "img_dir = '/data/local/ml01/qipan/exp_celeba/CG_inf_smile_samples_1'\n",
    "img = [ImageOps.grayscale(Image.open(os.path.join(img_dir, f))) for f in os.listdir(img_dir) if f.endswith('.png')]\n",
    "img = np.array([np.array(i) for i in img])"
   ]
  },
  {
   "cell_type": "code",
   "execution_count": 676,
   "metadata": {},
   "outputs": [
    {
     "data": {
      "text/plain": [
       "(1000, 64, 64)"
      ]
     },
     "execution_count": 676,
     "metadata": {},
     "output_type": "execute_result"
    }
   ],
   "source": [
    "img.shape"
   ]
  },
  {
   "cell_type": "code",
   "execution_count": 677,
   "metadata": {},
   "outputs": [],
   "source": [
    "img = (img - np.min(img, axis=0))/ (np.max(img, axis=0)- np.min(img, axis=0))"
   ]
  },
  {
   "cell_type": "code",
   "execution_count": 678,
   "metadata": {},
   "outputs": [],
   "source": [
    "empirical_cov = np.var(img, axis=0)"
   ]
  },
  {
   "cell_type": "code",
   "execution_count": 679,
   "metadata": {},
   "outputs": [
    {
     "data": {
      "text/plain": [
       "(64, 64)"
      ]
     },
     "execution_count": 679,
     "metadata": {},
     "output_type": "execute_result"
    }
   ],
   "source": [
    "empirical_cov.shape"
   ]
  },
  {
   "cell_type": "code",
   "execution_count": 680,
   "metadata": {},
   "outputs": [
    {
     "data": {
      "text/plain": [
       "array([[0.11790869, 0.11739077, 0.11939488, ..., 0.11712946, 0.11684583,\n",
       "        0.11841538],\n",
       "       [0.11736821, 0.11817271, 0.1195778 , ..., 0.11588179, 0.11610222,\n",
       "        0.11672638],\n",
       "       [0.11950845, 0.1186466 , 0.12033208, ..., 0.1148446 , 0.1136201 ,\n",
       "        0.11473578],\n",
       "       ...,\n",
       "       [0.11521391, 0.11247651, 0.10952726, ..., 0.10835407, 0.10918588,\n",
       "        0.10911623],\n",
       "       [0.11367264, 0.11108444, 0.10723971, ..., 0.10690491, 0.10693726,\n",
       "        0.10876018],\n",
       "       [0.1121679 , 0.11034484, 0.10784435, ..., 0.10717932, 0.10929499,\n",
       "        0.11235355]])"
      ]
     },
     "execution_count": 680,
     "metadata": {},
     "output_type": "execute_result"
    }
   ],
   "source": [
    "empirical_cov"
   ]
  },
  {
   "cell_type": "code",
   "execution_count": 681,
   "metadata": {},
   "outputs": [],
   "source": [
    "import numpy as np\n",
    "\n",
    "# This is a placeholder for the actual sub-Gaussian norm computation.\n",
    "def subgaussian_norm(X):\n",
    "    # You would replace this with the actual calculation, which depends on the distribution of X.\n",
    "    # For example, for a standard normal variable, the sub-Gaussian norm is 1.\n",
    "    return 1\n",
    "\n",
    "def calculate_K(A):\n",
    "    # Assuming A is a 2D numpy array of random variables.\n",
    "    subgaussian_norms = np.array([[subgaussian_norm(A[i, j]) for j in range(A.shape[1])] for i in range(A.shape[0])])\n",
    "    K = np.max(subgaussian_norms)\n",
    "    return K\n",
    "\n",
    "# Example usage:\n",
    "# A = np.random.randn(m, n)  # This would be your m x n random matrix with sub-Gaussian entries.\n",
    "# K = calculate_K(A)\n",
    "# print(K)"
   ]
  },
  {
   "cell_type": "code",
   "execution_count": 682,
   "metadata": {},
   "outputs": [
    {
     "data": {
      "text/plain": [
       "1"
      ]
     },
     "execution_count": 682,
     "metadata": {},
     "output_type": "execute_result"
    }
   ],
   "source": [
    "calculate_K(img[0])"
   ]
  },
  {
   "cell_type": "code",
   "execution_count": 683,
   "metadata": {},
   "outputs": [
    {
     "name": "stdout",
     "output_type": "stream",
     "text": [
      "57.54677765281298\n"
     ]
    },
    {
     "data": {
      "text/plain": [
       "29.585859319877713"
      ]
     },
     "execution_count": 683,
     "metadata": {},
     "output_type": "execute_result"
    }
   ],
   "source": [
    "d = 64\n",
    "gamma = 0.5\n",
    "m = img.shape[0]\n",
    "r = np.max(np.linalg.norm(img, axis=(1,2)))\n",
    "print(r)\n",
    "c = r * (np.max([np.sqrt((d + np.log(4/gamma))/m), (d + np.log(4/gamma))/m]) + np.sqrt((d + np.log(4/gamma))/m))\n",
    "c"
   ]
  },
  {
   "cell_type": "code",
   "execution_count": 684,
   "metadata": {},
   "outputs": [],
   "source": [
    "# c = 1\n",
    "v = 0.5\n",
    "beta = 0.5\n",
    "ΣB = confidence_noise_determination(img, c, v, beta, r)"
   ]
  },
  {
   "cell_type": "code",
   "execution_count": 685,
   "metadata": {},
   "outputs": [
    {
     "data": {
      "text/plain": [
       "array([[1899.85194276,    0.        ,    0.        , ...,    0.        ,\n",
       "           0.        ,    0.        ],\n",
       "       [   0.        , 1899.85194276,    0.        , ...,    0.        ,\n",
       "           0.        ,    0.        ],\n",
       "       [   0.        ,    0.        , 1899.85194276, ...,    0.        ,\n",
       "           0.        ,    0.        ],\n",
       "       ...,\n",
       "       [   0.        ,    0.        ,    0.        , ..., 1899.85194276,\n",
       "           0.        ,    0.        ],\n",
       "       [   0.        ,    0.        ,    0.        , ...,    0.        ,\n",
       "        1899.85194276,    0.        ],\n",
       "       [   0.        ,    0.        ,    0.        , ...,    0.        ,\n",
       "           0.        , 1899.85194276]])"
      ]
     },
     "execution_count": 685,
     "metadata": {},
     "output_type": "execute_result"
    }
   ],
   "source": [
    "ΣB"
   ]
  },
  {
   "cell_type": "code",
   "execution_count": 686,
   "metadata": {},
   "outputs": [
    {
     "data": {
      "text/plain": [
       "(64, 64)"
      ]
     },
     "execution_count": 686,
     "metadata": {},
     "output_type": "execute_result"
    }
   ],
   "source": [
    "ΣB.shape"
   ]
  },
  {
   "cell_type": "code",
   "execution_count": 687,
   "metadata": {},
   "outputs": [],
   "source": [
    "B = np.random.multivariate_normal(np.zeros(d), ΣB, m)"
   ]
  },
  {
   "cell_type": "code",
   "execution_count": 688,
   "metadata": {},
   "outputs": [
    {
     "data": {
      "text/plain": [
       "array([[ 33.04917245,  26.54839477,  15.77527837, ...,  67.87171697,\n",
       "         -8.93766856, -37.20861235],\n",
       "       [ 32.20830614, -56.44977472, -32.94790901, ...,   4.17772473,\n",
       "        -14.11902775, -68.28695503],\n",
       "       [ 39.394319  , -80.53360138,  94.60407306, ...,  34.81565998,\n",
       "         16.00586369,  26.67996681],\n",
       "       ...,\n",
       "       [-52.42258874,  74.14701231, -59.80421492, ..., -31.78854223,\n",
       "        -47.20842808,  38.91407245],\n",
       "       [-36.0484389 , -56.65460679,  42.78897879, ...,  17.14727832,\n",
       "        -56.79538053, -68.80298049],\n",
       "       [  1.10826324,  97.12303954,  26.54767274, ...,  38.24023198,\n",
       "        -69.08273574,  51.86546243]])"
      ]
     },
     "execution_count": 688,
     "metadata": {},
     "output_type": "execute_result"
    }
   ],
   "source": [
    "B"
   ]
  },
  {
   "cell_type": "code",
   "execution_count": 689,
   "metadata": {},
   "outputs": [
    {
     "data": {
      "text/plain": [
       "array([[ 33.04917245,  26.54839477,  15.80272935, ...,  67.98936403,\n",
       "         -8.86315876, -37.02429862],\n",
       "       [ 33.04917245,  26.54839477,  15.81449405, ...,  67.94622678,\n",
       "         -8.84747248, -36.90273   ],\n",
       "       [ 33.04917245,  26.54839477,  15.83802346, ...,  68.3187758 ,\n",
       "         -8.65923719, -36.82037705],\n",
       "       ...,\n",
       "       [ 33.05701559,  26.55623791,  15.86155288, ...,  68.17759933,\n",
       "         -8.72590386, -36.96939666],\n",
       "       [ 33.06093716,  26.56015948,  15.83018033, ...,  68.14230521,\n",
       "         -8.80041366, -37.06351431],\n",
       "       [ 33.080545  ,  26.57192418,  15.80665091, ...,  68.17759933,\n",
       "         -8.74159013, -36.96155352]])"
      ]
     },
     "execution_count": 689,
     "metadata": {},
     "output_type": "execute_result"
    }
   ],
   "source": [
    "img[0] + B[0]"
   ]
  },
  {
   "cell_type": "code",
   "execution_count": 690,
   "metadata": {},
   "outputs": [
    {
     "data": {
      "text/plain": [
       "347.3018524820325"
      ]
     },
     "execution_count": 690,
     "metadata": {},
     "output_type": "execute_result"
    }
   ],
   "source": [
    "np.mean(np.linalg.norm(B, axis=1))"
   ]
  },
  {
   "cell_type": "code",
   "execution_count": null,
   "metadata": {},
   "outputs": [],
   "source": []
  },
  {
   "cell_type": "code",
   "execution_count": null,
   "metadata": {},
   "outputs": [],
   "source": []
  }
 ],
 "metadata": {
  "kernelspec": {
   "display_name": ".venv",
   "language": "python",
   "name": "python3"
  },
  "language_info": {
   "codemirror_mode": {
    "name": "ipython",
    "version": 3
   },
   "file_extension": ".py",
   "mimetype": "text/x-python",
   "name": "python",
   "nbconvert_exporter": "python",
   "pygments_lexer": "ipython3",
   "version": "3.10.12"
  }
 },
 "nbformat": 4,
 "nbformat_minor": 4
}
