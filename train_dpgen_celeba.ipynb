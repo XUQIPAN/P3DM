{
 "cells": [
  {
   "cell_type": "code",
   "execution_count": 2,
   "id": "bf116df5",
   "metadata": {},
   "outputs": [],
   "source": [
    "from tqdm import tqdm\n",
    "import torchvision\n",
    "from glob import glob\n",
    "import os\n",
    "import matplotlib.pyplot as plt\n",
    "from torchvision import transforms\n",
    "from torchvision import models\n",
    "import torch\n",
    "from torch.autograd import Variable\n",
    "import torch.nn as nn\n",
    "from torch.optim import lr_scheduler\n",
    "from torch import optim\n",
    "from torchvision.utils import make_grid\n",
    "from torch.utils.data import Dataset\n",
    "import torch.nn.functional as F\n",
    "import time\n",
    "%matplotlib inline\n",
    "import joblib\n",
    "from PIL import Image\n",
    "import numpy as np"
   ]
  },
  {
   "cell_type": "code",
   "execution_count": 3,
   "id": "0e2f0752",
   "metadata": {},
   "outputs": [],
   "source": [
    "import os\n",
    "os.environ[\"CUDA_VISIBLE_DEVICES\"] = '1, 2'"
   ]
  },
  {
   "cell_type": "code",
   "execution_count": 4,
   "id": "9a729778",
   "metadata": {},
   "outputs": [],
   "source": [
    "train_x = joblib.load('./train_celeba_x_exp_fake.pkl')\n",
    "train_y = joblib.load('./train_celeba_y_exp_fake.pkl')"
   ]
  },
  {
   "cell_type": "code",
   "execution_count": 5,
   "id": "30f82bd2",
   "metadata": {},
   "outputs": [],
   "source": [
    "class TrainCelebA(Dataset):\n",
    "    \n",
    "    def __init__(self, x, y):\n",
    "        \n",
    "        self.x = torch.tensor(x).float()\n",
    "        self.y = torch.tensor(y).float()\n",
    "        \n",
    "    def __len__(self):\n",
    "        return len(self.y)\n",
    "    \n",
    "    def __getitem__(self, index):   \n",
    "        sample = [self.x[index], int(torch.argmax(self.y[index]))]\n",
    "        \n",
    "        return sample\n"
   ]
  },
  {
   "cell_type": "code",
   "execution_count": 6,
   "id": "ad801e97",
   "metadata": {},
   "outputs": [
    {
     "name": "stderr",
     "output_type": "stream",
     "text": [
      "/tmp/ipykernel_578920/1855761221.py:5: UserWarning: Creating a tensor from a list of numpy.ndarrays is extremely slow. Please consider converting the list to a single numpy.ndarray with numpy.array() before converting to a tensor. (Triggered internally at ../torch/csrc/utils/tensor_new.cpp:245.)\n",
      "  self.x = torch.tensor(x).float()\n"
     ]
    }
   ],
   "source": [
    "train_dl = TrainCelebA(train_x, train_y)"
   ]
  },
  {
   "cell_type": "code",
   "execution_count": 7,
   "id": "1909b164",
   "metadata": {},
   "outputs": [
    {
     "name": "stdout",
     "output_type": "stream",
     "text": [
      "162770\n"
     ]
    }
   ],
   "source": [
    "from torchvision.datasets import CelebA\n",
    "\n",
    "class CelebA_Male(CelebA):\n",
    "    def __getitem__(self, index):\n",
    "        X = Image.open(os.path.join(self.root, self.base_folder, \"img_align_celeba\", self.filename[index]))\n",
    "\n",
    "        target = []\n",
    "        for t in self.target_type:\n",
    "            if t == \"attr\":\n",
    "                target.append(self.attr[index, 20:21]) # Male\n",
    "            elif t == \"identity\":\n",
    "                target.append(self.identity[index, 0])\n",
    "            elif t == \"bbox\":\n",
    "                target.append(self.bbox[index, :])\n",
    "            elif t == \"landmarks\":\n",
    "                target.append(self.landmarks_align[index, :])\n",
    "            else:\n",
    "                raise ValueError(\"Target type \\\"{}\\\" is not recognized.\".format(t))\n",
    "        target = tuple(target) if len(target) > 1 else target[0]\n",
    "\n",
    "        if self.transform is not None:\n",
    "            X = self.transform(X)\n",
    "\n",
    "        if self.target_transform is not None:\n",
    "            target = self.target_transform(target)\n",
    "\n",
    "        return X, target\n",
    "\n",
    "test_transform = transforms.Compose([\n",
    "    transforms.Resize((128,128)),\n",
    "    transforms.ToTensor()\n",
    "])\n",
    "tmp_dl = CelebA_Male(root=\"/data/local/qipan/exp_celeba/datasets/celeba\", download=False, transform=test_transform)\n",
    "\n",
    "# val_num = tmp_dl.__len__()//100\n",
    "# _, valid_dl = torch.utils.data.random_split(tmp_dl, [tmp_dl.__len__()-val_num, val_num])\n",
    "\n",
    "valid_dl = tmp_dl\n",
    "\n",
    "print(valid_dl.__len__())"
   ]
  },
  {
   "cell_type": "code",
   "execution_count": 8,
   "id": "db090203",
   "metadata": {},
   "outputs": [],
   "source": [
    "x, y = valid_dl[0]"
   ]
  },
  {
   "cell_type": "code",
   "execution_count": 9,
   "id": "4568760f",
   "metadata": {},
   "outputs": [
    {
     "data": {
      "text/plain": [
       "(torch.Size([3, 128, 128]), tensor([0]))"
      ]
     },
     "execution_count": 9,
     "metadata": {},
     "output_type": "execute_result"
    }
   ],
   "source": [
    "x.shape, y"
   ]
  },
  {
   "cell_type": "code",
   "execution_count": 10,
   "id": "91de11ed",
   "metadata": {},
   "outputs": [],
   "source": [
    "train_dataloader = torch.utils.data.DataLoader(train_dl, shuffle = True, batch_size = 4, num_workers = 4)\n",
    "valid_dataloader = torch.utils.data.DataLoader(valid_dl, shuffle = True, batch_size = 4, num_workers = 4)"
   ]
  },
  {
   "cell_type": "code",
   "execution_count": 13,
   "id": "743db226",
   "metadata": {},
   "outputs": [
    {
     "data": {
      "text/plain": [
       "<matplotlib.image.AxesImage at 0x7f1c855905b0>"
      ]
     },
     "execution_count": 13,
     "metadata": {},
     "output_type": "execute_result"
    },
    {
     "data": {
      "image/png": "[encoded data removed]",
      "text/plain": [
       "<Figure size 640x480 with 1 Axes>"
      ]
     },
     "metadata": {},
     "output_type": "display_data"
    }
   ],
   "source": [
    "plt.imshow(torchvision.utils.make_grid(train_dl[6][0]).permute(1, 2, 0))"
   ]
  },
  {
   "cell_type": "code",
   "execution_count": 14,
   "id": "c02c00de",
   "metadata": {},
   "outputs": [],
   "source": [
    "class MultiClassifier(nn.Module):\n",
    "    def __init__(self):\n",
    "        super(MultiClassifier, self).__init__()\n",
    "        self.ConvLayer1 = nn.Sequential(\n",
    "            nn.Conv2d(3, 64, 3), # 3, 256, 256\n",
    "            nn.MaxPool2d(2), # op: 16, 127, 127\n",
    "            nn.ReLU(), # op: 64, 127, 127\n",
    "        )\n",
    "        self.ConvLayer2 = nn.Sequential(\n",
    "            nn.Conv2d(64, 128, 3), # 64, 127, 127   \n",
    "            nn.MaxPool2d(2), #op: 128, 63, 63\n",
    "            nn.ReLU() # op: 128, 63, 63\n",
    "        )\n",
    "        self.ConvLayer3 = nn.Sequential(\n",
    "            nn.Conv2d(128, 256, 3), # 128, 63, 63\n",
    "            nn.MaxPool2d(2), #op: 256, 30, 30\n",
    "            nn.ReLU() #op: 256, 30, 30\n",
    "        )\n",
    "        \n",
    "        self.Linear1 = nn.Linear(256*14*14, 64)\n",
    "        self.Linear2 = nn.Linear(64, 2)\n",
    "                \n",
    "        \n",
    "    def forward(self, x):\n",
    "        x = self.ConvLayer1(x)\n",
    "        x = self.ConvLayer2(x)\n",
    "        x = self.ConvLayer3(x)\n",
    "\n",
    "        x = x.view(x.size(0), -1)\n",
    "        x = self.Linear1(x)\n",
    "        x = self.Linear2(x)\n",
    "        return F.softmax(x)"
   ]
  },
  {
   "cell_type": "code",
   "execution_count": 15,
   "id": "8a97c8a7",
   "metadata": {},
   "outputs": [],
   "source": [
    "def check_cuda():\n",
    "    _cuda = False\n",
    "    if torch.cuda.is_available():\n",
    "        _cuda = True\n",
    "    return _cuda"
   ]
  },
  {
   "cell_type": "code",
   "execution_count": 16,
   "id": "9c200e0a",
   "metadata": {},
   "outputs": [],
   "source": [
    "is_cuda = check_cuda()"
   ]
  },
  {
   "cell_type": "code",
   "execution_count": 17,
   "id": "e7ecf989",
   "metadata": {},
   "outputs": [],
   "source": [
    "model = MultiClassifier()\n",
    "if is_cuda:\n",
    "    model.cuda()"
   ]
  },
  {
   "cell_type": "code",
   "execution_count": 18,
   "id": "809ccc44",
   "metadata": {},
   "outputs": [],
   "source": [
    "x = train_dl[0][0].unsqueeze(0).cuda()"
   ]
  },
  {
   "cell_type": "code",
   "execution_count": 19,
   "id": "1d571548",
   "metadata": {},
   "outputs": [
    {
     "name": "stderr",
     "output_type": "stream",
     "text": [
      "/tmp/ipykernel_578920/3814926896.py:32: UserWarning: Implicit dimension choice for softmax has been deprecated. Change the call to include dim=X as an argument.\n",
      "  return F.softmax(x)\n"
     ]
    },
    {
     "data": {
      "text/plain": [
       "torch.Size([1, 2])"
      ]
     },
     "execution_count": 19,
     "metadata": {},
     "output_type": "execute_result"
    }
   ],
   "source": [
    "model(x).shape"
   ]
  },
  {
   "cell_type": "code",
   "execution_count": 17,
   "id": "cef5db9b",
   "metadata": {},
   "outputs": [],
   "source": [
    "def pred_acc(original, predicted):\n",
    "    return torch.round(predicted).eq(original).sum().numpy()/len(original)"
   ]
  },
  {
   "cell_type": "code",
   "execution_count": 18,
   "id": "c54030b6",
   "metadata": {},
   "outputs": [],
   "source": [
    "criterion = nn.BCELoss()\n",
    "# optimizer = optim.SGD(model.parameters(), lr = 0.0001, momentum = 0.9)\n",
    "# optimizer = optim.SGD(model.parameters(), lr = 2e-2)\n",
    "optimizer = optim.Adam(model.parameters(), lr = 0.001)"
   ]
  },
  {
   "cell_type": "code",
   "execution_count": 19,
   "id": "043aad56",
   "metadata": {},
   "outputs": [],
   "source": [
    "from pprint import pprint"
   ]
  },
  {
   "cell_type": "code",
   "execution_count": 20,
   "id": "431a96af",
   "metadata": {},
   "outputs": [
    {
     "data": {
      "text/plain": [
       "MultiClassifier(\n",
       "  (ConvLayer1): Sequential(\n",
       "    (0): Conv2d(3, 64, kernel_size=(3, 3), stride=(1, 1))\n",
       "    (1): MaxPool2d(kernel_size=2, stride=2, padding=0, dilation=1, ceil_mode=False)\n",
       "    (2): ReLU()\n",
       "  )\n",
       "  (ConvLayer2): Sequential(\n",
       "    (0): Conv2d(64, 128, kernel_size=(3, 3), stride=(1, 1))\n",
       "    (1): MaxPool2d(kernel_size=2, stride=2, padding=0, dilation=1, ceil_mode=False)\n",
       "    (2): ReLU()\n",
       "  )\n",
       "  (ConvLayer3): Sequential(\n",
       "    (0): Conv2d(128, 256, kernel_size=(3, 3), stride=(1, 1))\n",
       "    (1): MaxPool2d(kernel_size=2, stride=2, padding=0, dilation=1, ceil_mode=False)\n",
       "    (2): ReLU()\n",
       "  )\n",
       "  (Linear1): Linear(in_features=50176, out_features=64, bias=True)\n",
       "  (Linear2): Linear(in_features=64, out_features=2, bias=True)\n",
       ")"
      ]
     },
     "execution_count": 20,
     "metadata": {},
     "output_type": "execute_result"
    }
   ],
   "source": [
    "model.train()"
   ]
  },
  {
   "cell_type": "code",
   "execution_count": 21,
   "id": "c4c426cb",
   "metadata": {},
   "outputs": [],
   "source": [
    "def fit_model(epochs, model, dataloader, phase = 'training', volatile = False):\n",
    "    \n",
    "    pprint(\"Epoch: {}\".format(epochs))\n",
    "\n",
    "    if phase == 'training':\n",
    "        model.train()\n",
    "        \n",
    "    if phase == 'validataion':\n",
    "        model.eval()\n",
    "        volatile = True\n",
    "        \n",
    "    running_loss = []\n",
    "    running_acc = []\n",
    "    b = 0\n",
    "    for i, data in enumerate(dataloader):\n",
    "        inputs, target = data[0].cuda(), torch.eye(2)[data[1]].squeeze().cuda() \n",
    "        inputs, target = Variable(inputs), Variable(target)\n",
    "        \n",
    "        if phase == 'training':\n",
    "            optimizer.zero_grad()\n",
    "            \n",
    "        ops = model(inputs)\n",
    "        \n",
    "        acc_ = []\n",
    "        for i, d in enumerate(ops):\n",
    "           \n",
    "            acc = pred_acc(torch.Tensor.cpu(target[i]), torch.Tensor.cpu(d))\n",
    "            acc_.append(acc)\n",
    "\n",
    "        loss = criterion(ops, target)\n",
    "                \n",
    "        running_loss.append(loss.item())\n",
    "        running_acc.append(np.asarray(acc_).mean())\n",
    "        b += 1\n",
    "       \n",
    "        if phase == 'training':\n",
    "            \n",
    "            loss.backward()\n",
    "        \n",
    "            optimizer.step()\n",
    "            \n",
    "    total_batch_loss = np.asarray(running_loss).mean()\n",
    "    total_batch_acc = np.asarray(running_acc).mean()\n",
    "    \n",
    "\n",
    "    pprint(\"{} loss is {} \".format(phase,total_batch_loss))\n",
    "    pprint(\"{} accuracy is {} \".format(phase, total_batch_acc))\n",
    "    \n",
    "    return total_batch_loss, total_batch_acc\n"
   ]
  },
  {
   "cell_type": "code",
   "execution_count": 22,
   "id": "dd6fe882",
   "metadata": {},
   "outputs": [],
   "source": [
    "inputs, target = next(iter(train_dataloader))"
   ]
  },
  {
   "cell_type": "code",
   "execution_count": 23,
   "id": "135ad7bf",
   "metadata": {},
   "outputs": [
    {
     "name": "stderr",
     "output_type": "stream",
     "text": [
      "/tmp/ipykernel_3818362/3814926896.py:32: UserWarning: Implicit dimension choice for softmax has been deprecated. Change the call to include dim=X as an argument.\n",
      "  return F.softmax(x)\n"
     ]
    }
   ],
   "source": [
    "ops = model(inputs.cuda())"
   ]
  },
  {
   "cell_type": "code",
   "execution_count": 24,
   "id": "8db2acc8",
   "metadata": {},
   "outputs": [],
   "source": [
    "trn_losses = []; trn_acc = []\n",
    "val_losses = []; val_acc = []\n"
   ]
  },
  {
   "cell_type": "code",
   "execution_count": 25,
   "id": "60c0c59f",
   "metadata": {},
   "outputs": [
    {
     "name": "stderr",
     "output_type": "stream",
     "text": [
      "  0%|          | 0/99 [00:00<?, ?it/s]"
     ]
    },
    {
     "name": "stdout",
     "output_type": "stream",
     "text": [
      "'Epoch: 1'\n"
     ]
    },
    {
     "name": "stderr",
     "output_type": "stream",
     "text": [
      "/tmp/ipykernel_3818362/3814926896.py:32: UserWarning: Implicit dimension choice for softmax has been deprecated. Change the call to include dim=X as an argument.\n",
      "  return F.softmax(x)\n"
     ]
    },
    {
     "name": "stdout",
     "output_type": "stream",
     "text": [
      "'training loss is 0.6748838007744016 '\n",
      "'training accuracy is 0.6731481481481482 '\n",
      "'Epoch: 1'\n"
     ]
    },
    {
     "name": "stderr",
     "output_type": "stream",
     "text": [
      "  1%|          | 1/99 [01:26<2:20:36, 86.09s/it]"
     ]
    },
    {
     "name": "stdout",
     "output_type": "stream",
     "text": [
      "'validation loss is 0.6842472971934315 '\n",
      "'validation accuracy is 0.5806281178581083 '\n",
      "'Epoch: 2'\n",
      "'training loss is 0.6361714606483777 '\n",
      "'training accuracy is 0.6726851851851852 '\n",
      "'Epoch: 2'\n"
     ]
    },
    {
     "name": "stderr",
     "output_type": "stream",
     "text": [
      "  2%|▏         | 2/99 [02:50<2:18:00, 85.37s/it]"
     ]
    },
    {
     "name": "stdout",
     "output_type": "stream",
     "text": [
      "'validation loss is 0.706926429580465 '\n",
      "'validation accuracy is 0.5806281178581083 '\n",
      "'Epoch: 3'\n",
      "'training loss is 0.6338771007817101 '\n",
      "'training accuracy is 0.6731481481481482 '\n",
      "'Epoch: 3'\n"
     ]
    },
    {
     "name": "stderr",
     "output_type": "stream",
     "text": [
      "  3%|▎         | 3/99 [04:15<2:16:20, 85.21s/it]"
     ]
    },
    {
     "name": "stdout",
     "output_type": "stream",
     "text": [
      "'validation loss is 0.8949976928626966 '\n",
      "'validation accuracy is 0.5746565748408817 '\n",
      "'Epoch: 4'\n",
      "'training loss is 0.6245076016971358 '\n",
      "'training accuracy is 0.6689814814814815 '\n",
      "'Epoch: 4'\n"
     ]
    },
    {
     "name": "stderr",
     "output_type": "stream",
     "text": [
      "  4%|▍         | 4/99 [05:41<2:14:53, 85.19s/it]"
     ]
    },
    {
     "name": "stdout",
     "output_type": "stream",
     "text": [
      "'validation loss is 0.6780103393845808 '\n",
      "'validation accuracy is 0.5809291524340796 '\n",
      "'Epoch: 5'\n",
      "'training loss is 0.6208313387853128 '\n",
      "'training accuracy is 0.6722222222222223 '\n",
      "'Epoch: 5'\n"
     ]
    },
    {
     "name": "stderr",
     "output_type": "stream",
     "text": [
      "  5%|▌         | 5/99 [07:05<2:13:11, 85.01s/it]"
     ]
    },
    {
     "name": "stdout",
     "output_type": "stream",
     "text": [
      "'validation loss is 0.6890575669617434 '\n",
      "'validation accuracy is 0.5741896640699875 '\n",
      "'Epoch: 6'\n",
      "'training loss is 0.6094382488893137 '\n",
      "'training accuracy is 0.6754629629629629 '\n",
      "'Epoch: 6'\n"
     ]
    },
    {
     "name": "stderr",
     "output_type": "stream",
     "text": [
      "  6%|▌         | 6/99 [08:30<2:11:30, 84.85s/it]"
     ]
    },
    {
     "name": "stdout",
     "output_type": "stream",
     "text": [
      "'validation loss is 0.690238660781513 '\n",
      "'validation accuracy is 0.586016022411717 '\n",
      "'Epoch: 7'\n",
      "'training loss is 0.5958518376642907 '\n",
      "'training accuracy is 0.6805555555555556 '\n",
      "'Epoch: 7'\n"
     ]
    },
    {
     "name": "stderr",
     "output_type": "stream",
     "text": [
      "  7%|▋         | 7/99 [09:55<2:10:02, 84.81s/it]"
     ]
    },
    {
     "name": "stdout",
     "output_type": "stream",
     "text": [
      "'validation loss is 0.7445432336334646 '\n",
      "'validation accuracy is 0.6009264492664586 '\n",
      "'Epoch: 8'\n",
      "'training loss is 0.5713346450831052 '\n",
      "'training accuracy is 0.6962962962962963 '\n",
      "'Epoch: 8'\n"
     ]
    },
    {
     "name": "stderr",
     "output_type": "stream",
     "text": [
      "  8%|▊         | 8/99 [11:19<2:08:29, 84.72s/it]"
     ]
    },
    {
     "name": "stdout",
     "output_type": "stream",
     "text": [
      "'validation loss is 0.6271023339277298 '\n",
      "'validation accuracy is 0.653245029857715 '\n",
      "'Epoch: 9'\n",
      "'training loss is 0.536357174910329 '\n",
      "'training accuracy is 0.7194444444444444 '\n",
      "'Epoch: 9'\n"
     ]
    },
    {
     "name": "stderr",
     "output_type": "stream",
     "text": [
      "  9%|▉         | 9/99 [12:44<2:07:03, 84.70s/it]"
     ]
    },
    {
     "name": "stdout",
     "output_type": "stream",
     "text": [
      "'validation loss is 0.5458929789803985 '\n",
      "'validation accuracy is 0.7249772688177328 '\n",
      "'Epoch: 10'\n",
      "'training loss is 0.5085083148131768 '\n",
      "'training accuracy is 0.7490740740740741 '\n",
      "'Epoch: 10'\n"
     ]
    },
    {
     "name": "stderr",
     "output_type": "stream",
     "text": [
      " 10%|█         | 10/99 [14:08<2:05:20, 84.50s/it]"
     ]
    },
    {
     "name": "stdout",
     "output_type": "stream",
     "text": [
      "'validation loss is 0.5466660199178758 '\n",
      "'validation accuracy is 0.7524881429238444 '\n",
      "'Epoch: 11'\n",
      "'training loss is 0.4762925453553045 '\n",
      "'training accuracy is 0.7648148148148148 '\n",
      "'Epoch: 11'\n"
     ]
    },
    {
     "name": "stderr",
     "output_type": "stream",
     "text": [
      " 11%|█         | 11/99 [15:33<2:04:01, 84.56s/it]"
     ]
    },
    {
     "name": "stdout",
     "output_type": "stream",
     "text": [
      "'validation loss is 0.517574800936068 '\n",
      "'validation accuracy is 0.7657828127687809 '\n",
      "'Epoch: 12'\n",
      "'training loss is 0.4417478854905952 '\n",
      "'training accuracy is 0.7986111111111112 '\n",
      "'Epoch: 12'\n"
     ]
    },
    {
     "name": "stderr",
     "output_type": "stream",
     "text": [
      " 12%|█▏        | 12/99 [16:58<2:02:53, 84.75s/it]"
     ]
    },
    {
     "name": "stdout",
     "output_type": "stream",
     "text": [
      "'validation loss is 0.5212691390750934 '\n",
      "'validation accuracy is 0.756346300346497 '\n",
      "'Epoch: 13'\n",
      "'training loss is 0.4301044466491375 '\n",
      "'training accuracy is 0.8027777777777778 '\n",
      "'Epoch: 13'\n"
     ]
    },
    {
     "name": "stderr",
     "output_type": "stream",
     "text": [
      " 13%|█▎        | 13/99 [18:22<2:01:16, 84.61s/it]"
     ]
    },
    {
     "name": "stdout",
     "output_type": "stream",
     "text": [
      "'validation loss is 0.5346570829260724 '\n",
      "'validation accuracy is 0.766741208561669 '\n",
      "'Epoch: 14'\n",
      "'training loss is 0.4087185461755359 '\n",
      "'training accuracy is 0.8171296296296297 '\n",
      "'Epoch: 14'\n"
     ]
    },
    {
     "name": "stderr",
     "output_type": "stream",
     "text": [
      " 14%|█▍        | 14/99 [19:48<2:00:21, 84.96s/it]"
     ]
    },
    {
     "name": "stdout",
     "output_type": "stream",
     "text": [
      "'validation loss is 0.538911800627042 '\n",
      "'validation accuracy is 0.7764173199321751 '\n",
      "'Epoch: 15'\n",
      "'training loss is 0.39053223907723333 '\n",
      "'training accuracy is 0.8148148148148148 '\n",
      "'Epoch: 15'\n"
     ]
    },
    {
     "name": "stderr",
     "output_type": "stream",
     "text": [
      " 15%|█▌        | 15/99 [21:12<1:58:35, 84.70s/it]"
     ]
    },
    {
     "name": "stdout",
     "output_type": "stream",
     "text": [
      "'validation loss is 0.6149447029196219 '\n",
      "'validation accuracy is 0.7712628707640135 '\n",
      "'Epoch: 16'\n",
      "'training loss is 0.3726054197177291 '\n",
      "'training accuracy is 0.8300925925925926 '\n",
      "'Epoch: 16'\n"
     ]
    },
    {
     "name": "stderr",
     "output_type": "stream",
     "text": [
      " 16%|█▌        | 16/99 [22:36<1:56:57, 84.55s/it]"
     ]
    },
    {
     "name": "stdout",
     "output_type": "stream",
     "text": [
      "'validation loss is 0.616653824832174 '\n",
      "'validation accuracy is 0.7756248003342098 '\n",
      "'Epoch: 17'\n",
      "'training loss is 0.3672599609932621 '\n",
      "'training accuracy is 0.825925925925926 '\n",
      "'Epoch: 17'\n"
     ]
    },
    {
     "name": "stderr",
     "output_type": "stream",
     "text": [
      " 17%|█▋        | 17/99 [24:01<1:55:44, 84.69s/it]"
     ]
    },
    {
     "name": "stdout",
     "output_type": "stream",
     "text": [
      "'validation loss is 0.7712775144596257 '\n",
      "'validation accuracy is 0.7757783894035829 '\n",
      "'Epoch: 18'\n",
      "'training loss is 0.3604332826755665 '\n",
      "'training accuracy is 0.8444444444444444 '\n",
      "'Epoch: 18'\n"
     ]
    },
    {
     "name": "stderr",
     "output_type": "stream",
     "text": [
      " 18%|█▊        | 18/99 [25:27<1:54:38, 84.92s/it]"
     ]
    },
    {
     "name": "stdout",
     "output_type": "stream",
     "text": [
      "'validation loss is 0.5343859894005336 '\n",
      "'validation accuracy is 0.7785982847172732 '\n",
      "'Epoch: 19'\n",
      "'training loss is 0.3395291981839195 '\n",
      "'training accuracy is 0.8472222222222222 '\n",
      "'Epoch: 19'\n"
     ]
    },
    {
     "name": "stderr",
     "output_type": "stream",
     "text": [
      " 19%|█▉        | 19/99 [26:52<1:53:16, 84.96s/it]"
     ]
    },
    {
     "name": "stdout",
     "output_type": "stream",
     "text": [
      "'validation loss is 0.6392372469855099 '\n",
      "'validation accuracy is 0.785128891947018 '\n",
      "'Epoch: 20'\n",
      "'training loss is 0.3318267187422693 '\n",
      "'training accuracy is 0.8532407407407407 '\n",
      "'Epoch: 20'\n"
     ]
    },
    {
     "name": "stderr",
     "output_type": "stream",
     "text": [
      " 20%|██        | 20/99 [28:17<1:51:59, 85.06s/it]"
     ]
    },
    {
     "name": "stdout",
     "output_type": "stream",
     "text": [
      "'validation loss is 0.554249684161413 '\n",
      "'validation accuracy is 0.7715884795910845 '\n",
      "'Epoch: 21'\n",
      "'training loss is 0.3160345101497283 '\n",
      "'training accuracy is 0.8597222222222223 '\n",
      "'Epoch: 21'\n"
     ]
    },
    {
     "name": "stderr",
     "output_type": "stream",
     "text": [
      " 21%|██        | 21/99 [29:43<1:51:03, 85.43s/it]"
     ]
    },
    {
     "name": "stdout",
     "output_type": "stream",
     "text": [
      "'validation loss is 0.7285039108466932 '\n",
      "'validation accuracy is 0.7665691888039712 '\n",
      "'Epoch: 22'\n",
      "'training loss is 0.29494599510217084 '\n",
      "'training accuracy is 0.8805555555555555 '\n",
      "'Epoch: 22'\n"
     ]
    },
    {
     "name": "stderr",
     "output_type": "stream",
     "text": [
      " 22%|██▏       | 22/99 [31:09<1:49:43, 85.50s/it]"
     ]
    },
    {
     "name": "stdout",
     "output_type": "stream",
     "text": [
      "'validation loss is 0.9839718469985377 '\n",
      "'validation accuracy is 0.7126962868306589 '\n",
      "'Epoch: 23'\n",
      "'training loss is 0.29785519696457347 '\n",
      "'training accuracy is 0.8694444444444445 '\n",
      "'Epoch: 23'\n"
     ]
    },
    {
     "name": "stderr",
     "output_type": "stream",
     "text": [
      " 23%|██▎       | 23/99 [32:38<1:49:44, 86.64s/it]"
     ]
    },
    {
     "name": "stdout",
     "output_type": "stream",
     "text": [
      "'validation loss is 0.7537348790489303 '\n",
      "'validation accuracy is 0.7612795812547613 '\n",
      "'Epoch: 24'\n",
      "'training loss is 0.2821806385112857 '\n",
      "'training accuracy is 0.8703703703703703 '\n",
      "'Epoch: 24'\n"
     ]
    },
    {
     "name": "stderr",
     "output_type": "stream",
     "text": [
      " 24%|██▍       | 24/99 [34:04<1:47:51, 86.29s/it]"
     ]
    },
    {
     "name": "stdout",
     "output_type": "stream",
     "text": [
      "'validation loss is 0.9123770416449676 '\n",
      "'validation accuracy is 0.7598849925048534 '\n",
      "'Epoch: 25'\n",
      "'training loss is 0.27517128632540266 '\n",
      "'training accuracy is 0.8833333333333333 '\n",
      "'Epoch: 25'\n"
     ]
    },
    {
     "name": "stderr",
     "output_type": "stream",
     "text": [
      " 25%|██▌       | 25/99 [35:29<1:46:00, 85.96s/it]"
     ]
    },
    {
     "name": "stdout",
     "output_type": "stream",
     "text": [
      "'validation loss is 0.7811076768073834 '\n",
      "'validation accuracy is 0.7694320890570859 '\n",
      "'Epoch: 26'\n",
      "'training loss is 0.25248493943743394 '\n",
      "'training accuracy is 0.8916666666666667 '\n",
      "'Epoch: 26'\n"
     ]
    },
    {
     "name": "stderr",
     "output_type": "stream",
     "text": [
      " 26%|██▋       | 26/99 [36:54<1:44:26, 85.84s/it]"
     ]
    },
    {
     "name": "stdout",
     "output_type": "stream",
     "text": [
      "'validation loss is 1.13025900892444 '\n",
      "'validation accuracy is 0.7110620991325289 '\n",
      "'Epoch: 27'\n",
      "'training loss is 0.2498859438291725 '\n",
      "'training accuracy is 0.8925925925925926 '\n",
      "'Epoch: 27'\n"
     ]
    },
    {
     "name": "stderr",
     "output_type": "stream",
     "text": [
      " 27%|██▋       | 27/99 [38:19<1:42:41, 85.58s/it]"
     ]
    },
    {
     "name": "stdout",
     "output_type": "stream",
     "text": [
      "'validation loss is 0.8136435545655822 '\n",
      "'validation accuracy is 0.7544295087607206 '\n",
      "'Epoch: 28'\n",
      "'training loss is 0.25186141253043726 '\n",
      "'training accuracy is 0.8856481481481482 '\n",
      "'Epoch: 28'\n"
     ]
    },
    {
     "name": "stderr",
     "output_type": "stream",
     "text": [
      " 28%|██▊       | 28/99 [39:45<1:41:08, 85.48s/it]"
     ]
    },
    {
     "name": "stdout",
     "output_type": "stream",
     "text": [
      "'validation loss is 1.2165609924204448 '\n",
      "'validation accuracy is 0.7498709851817266 '\n",
      "'Epoch: 29'\n",
      "'training loss is 0.23800074029315038 '\n",
      "'training accuracy is 0.9018518518518519 '\n",
      "'Epoch: 29'\n"
     ]
    },
    {
     "name": "stderr",
     "output_type": "stream",
     "text": [
      " 29%|██▉       | 29/99 [41:09<1:39:17, 85.11s/it]"
     ]
    },
    {
     "name": "stdout",
     "output_type": "stream",
     "text": [
      "'validation loss is 1.0645553363722502 '\n",
      "'validation accuracy is 0.7597866955004546 '\n",
      "'Epoch: 30'\n",
      "'training loss is 0.22987255019198294 '\n",
      "'training accuracy is 0.9027777777777778 '\n",
      "'Epoch: 30'\n"
     ]
    },
    {
     "name": "stderr",
     "output_type": "stream",
     "text": [
      " 30%|███       | 30/99 [42:34<1:37:54, 85.14s/it]"
     ]
    },
    {
     "name": "stdout",
     "output_type": "stream",
     "text": [
      "'validation loss is 1.0413345046080178 '\n",
      "'validation accuracy is 0.7499631386233504 '\n",
      "'Epoch: 31'\n",
      "'training loss is 0.2177463049012709 '\n",
      "'training accuracy is 0.9055555555555556 '\n",
      "'Epoch: 31'\n"
     ]
    },
    {
     "name": "stderr",
     "output_type": "stream",
     "text": [
      " 31%|███▏      | 31/99 [43:58<1:36:11, 84.87s/it]"
     ]
    },
    {
     "name": "stdout",
     "output_type": "stream",
     "text": [
      "'validation loss is 1.3318952066192784 '\n",
      "'validation accuracy is 0.7463322930233701 '\n",
      "'Epoch: 32'\n",
      "'training loss is 0.20595989834664916 '\n",
      "'training accuracy is 0.9087962962962963 '\n",
      "'Epoch: 32'\n"
     ]
    },
    {
     "name": "stderr",
     "output_type": "stream",
     "text": [
      " 32%|███▏      | 32/99 [45:23<1:34:51, 84.95s/it]"
     ]
    },
    {
     "name": "stdout",
     "output_type": "stream",
     "text": [
      "'validation loss is 1.271133100503944 '\n",
      "'validation accuracy is 0.7036898238026196 '\n",
      "'Epoch: 33'\n",
      "'training loss is 0.20209875327221163 '\n",
      "'training accuracy is 0.9157407407407407 '\n",
      "'Epoch: 33'\n"
     ]
    },
    {
     "name": "stderr",
     "output_type": "stream",
     "text": [
      " 33%|███▎      | 33/99 [46:49<1:33:33, 85.06s/it]"
     ]
    },
    {
     "name": "stdout",
     "output_type": "stream",
     "text": [
      "'validation loss is 1.2533855007449217 '\n",
      "'validation accuracy is 0.7327611628535621 '\n",
      "'Epoch: 34'\n",
      "'training loss is 0.17518663489530875 '\n",
      "'training accuracy is 0.9314814814814815 '\n",
      "'Epoch: 34'\n"
     ]
    },
    {
     "name": "stderr",
     "output_type": "stream",
     "text": [
      " 34%|███▍      | 34/99 [48:14<1:32:08, 85.05s/it]"
     ]
    },
    {
     "name": "stdout",
     "output_type": "stream",
     "text": [
      "'validation loss is 1.9564363086197458 '\n",
      "'validation accuracy is 0.7439178728528248 '\n",
      "'Epoch: 35'\n",
      "'training loss is 0.16867826436754074 '\n",
      "'training accuracy is 0.9310185185185185 '\n",
      "'Epoch: 35'\n"
     ]
    },
    {
     "name": "stderr",
     "output_type": "stream",
     "text": [
      " 35%|███▌      | 35/99 [49:39<1:30:48, 85.14s/it]"
     ]
    },
    {
     "name": "stdout",
     "output_type": "stream",
     "text": [
      "'validation loss is 2.0461998182638577 '\n",
      "'validation accuracy is 0.7307645049517116 '\n",
      "'Epoch: 36'\n",
      "'training loss is 0.16814017689434035 '\n",
      "'training accuracy is 0.9319444444444445 '\n",
      "'Epoch: 36'\n"
     ]
    },
    {
     "name": "stderr",
     "output_type": "stream",
     "text": [
      " 36%|███▋      | 36/99 [51:04<1:29:25, 85.17s/it]"
     ]
    },
    {
     "name": "stdout",
     "output_type": "stream",
     "text": [
      "'validation loss is 1.789496137974419 '\n",
      "'validation accuracy is 0.7470019413658369 '\n",
      "'Epoch: 37'\n",
      "'training loss is 0.1759421693721783 '\n",
      "'training accuracy is 0.9296296296296296 '\n",
      "'Epoch: 37'\n"
     ]
    },
    {
     "name": "stderr",
     "output_type": "stream",
     "text": [
      " 37%|███▋      | 37/99 [52:29<1:27:43, 84.89s/it]"
     ]
    },
    {
     "name": "stdout",
     "output_type": "stream",
     "text": [
      "'validation loss is 1.7671540250669338 '\n",
      "'validation accuracy is 0.7449807092128867 '\n",
      "'Epoch: 38'\n",
      "'training loss is 0.16162072183043266 '\n",
      "'training accuracy is 0.9356481481481481 '\n",
      "'Epoch: 38'\n"
     ]
    },
    {
     "name": "stderr",
     "output_type": "stream",
     "text": [
      " 38%|███▊      | 38/99 [53:53<1:26:12, 84.79s/it]"
     ]
    },
    {
     "name": "stdout",
     "output_type": "stream",
     "text": [
      "'validation loss is 1.7799943979833754 '\n",
      "'validation accuracy is 0.7479971985353746 '\n",
      "'Epoch: 39'\n",
      "'training loss is 0.15474249626464134 '\n",
      "'training accuracy is 0.9356481481481481 '\n",
      "'Epoch: 39'\n"
     ]
    },
    {
     "name": "stderr",
     "output_type": "stream",
     "text": [
      " 39%|███▉      | 39/99 [55:18<1:24:54, 84.91s/it]"
     ]
    },
    {
     "name": "stdout",
     "output_type": "stream",
     "text": [
      "'validation loss is 2.0989645134091686 '\n",
      "'validation accuracy is 0.7364104391418671 '\n",
      "'Epoch: 40'\n",
      "'training loss is 0.13791812711991513 '\n",
      "'training accuracy is 0.9453703703703704 '\n",
      "'Epoch: 40'\n"
     ]
    },
    {
     "name": "stderr",
     "output_type": "stream",
     "text": [
      " 40%|████      | 40/99 [56:43<1:23:24, 84.82s/it]"
     ]
    },
    {
     "name": "stdout",
     "output_type": "stream",
     "text": [
      "'validation loss is 2.0659824414569643 '\n",
      "'validation accuracy is 0.7475671491411299 '\n",
      "'Epoch: 41'\n",
      "'training loss is 0.13522119477087371 '\n",
      "'training accuracy is 0.9476851851851852 '\n",
      "'Epoch: 41'\n"
     ]
    },
    {
     "name": "stderr",
     "output_type": "stream",
     "text": [
      " 41%|████▏     | 41/99 [58:07<1:21:55, 84.74s/it]"
     ]
    },
    {
     "name": "stdout",
     "output_type": "stream",
     "text": [
      "'validation loss is 2.294561763584546 '\n",
      "'validation accuracy is 0.7528260388764653 '\n",
      "'Epoch: 42'\n",
      "'training loss is 0.13462775257578188 '\n",
      "'training accuracy is 0.9453703703703704 '\n",
      "'Epoch: 42'\n"
     ]
    },
    {
     "name": "stderr",
     "output_type": "stream",
     "text": [
      " 42%|████▏     | 42/99 [59:33<1:20:39, 84.91s/it]"
     ]
    },
    {
     "name": "stdout",
     "output_type": "stream",
     "text": [
      "'validation loss is 2.833628285458653 '\n",
      "'validation accuracy is 0.7369264984149608 '\n",
      "'Epoch: 43'\n",
      "'training loss is 0.1340342337278891 '\n",
      "'training accuracy is 0.9430555555555555 '\n",
      "'Epoch: 43'\n"
     ]
    },
    {
     "name": "stderr",
     "output_type": "stream",
     "text": [
      " 43%|████▎     | 43/99 [1:00:57<1:19:07, 84.77s/it]"
     ]
    },
    {
     "name": "stdout",
     "output_type": "stream",
     "text": [
      "'validation loss is 1.3867397650910744 '\n",
      "'validation accuracy is 0.7488204359472145 '\n",
      "'Epoch: 44'\n",
      "'training loss is 0.13463759717564633 '\n",
      "'training accuracy is 0.9430555555555555 '\n",
      "'Epoch: 44'\n"
     ]
    },
    {
     "name": "stderr",
     "output_type": "stream",
     "text": [
      " 44%|████▍     | 44/99 [1:02:22<1:17:50, 84.91s/it]"
     ]
    },
    {
     "name": "stdout",
     "output_type": "stream",
     "text": [
      "'validation loss is 3.3016184686066308 '\n",
      "'validation accuracy is 0.736017251124272 '\n",
      "'Epoch: 45'\n",
      "'training loss is 0.11586582215176719 '\n",
      "'training accuracy is 0.9518518518518518 '\n",
      "'Epoch: 45'\n"
     ]
    },
    {
     "name": "stderr",
     "output_type": "stream",
     "text": [
      " 45%|████▌     | 45/99 [1:03:47<1:16:23, 84.89s/it]"
     ]
    },
    {
     "name": "stdout",
     "output_type": "stream",
     "text": [
      "'validation loss is 2.9747902364653513 '\n",
      "'validation accuracy is 0.7476900203966285 '\n",
      "'Epoch: 46'\n",
      "'training loss is 0.11604299796873858 '\n",
      "'training accuracy is 0.9537037037037037 '\n",
      "'Epoch: 46'\n"
     ]
    },
    {
     "name": "stderr",
     "output_type": "stream",
     "text": [
      " 46%|████▋     | 46/99 [1:05:12<1:14:55, 84.82s/it]"
     ]
    },
    {
     "name": "stdout",
     "output_type": "stream",
     "text": [
      "'validation loss is 3.4791906693161714 '\n",
      "'validation accuracy is 0.7433772393286314 '\n",
      "'Epoch: 47'\n",
      "'training loss is 0.1247590192634762 '\n",
      "'training accuracy is 0.95 '\n",
      "'Epoch: 47'\n"
     ]
    },
    {
     "name": "stderr",
     "output_type": "stream",
     "text": [
      " 47%|████▋     | 47/99 [1:06:36<1:13:22, 84.66s/it]"
     ]
    },
    {
     "name": "stdout",
     "output_type": "stream",
     "text": [
      "'validation loss is 3.605516072662534 '\n",
      "'validation accuracy is 0.7407969429631632 '\n",
      "'Epoch: 48'\n",
      "'training loss is 0.09313700335299963 '\n",
      "'training accuracy is 0.9601851851851851 '\n",
      "'Epoch: 48'\n"
     ]
    },
    {
     "name": "stderr",
     "output_type": "stream",
     "text": [
      " 48%|████▊     | 48/99 [1:08:02<1:12:09, 84.89s/it]"
     ]
    },
    {
     "name": "stdout",
     "output_type": "stream",
     "text": [
      "'validation loss is 4.509301544385889 '\n",
      "'validation accuracy is 0.7311454058437569 '\n",
      "'Epoch: 49'\n",
      "'training loss is 0.10123915007586072 '\n",
      "'training accuracy is 0.9606481481481481 '\n",
      "'Epoch: 49'\n"
     ]
    },
    {
     "name": "stderr",
     "output_type": "stream",
     "text": [
      " 49%|████▉     | 49/99 [1:09:28<1:11:06, 85.33s/it]"
     ]
    },
    {
     "name": "stdout",
     "output_type": "stream",
     "text": [
      "'validation loss is 3.6765407527642853 '\n",
      "'validation accuracy is 0.7491521883370604 '\n",
      "'Epoch: 50'\n",
      "'training loss is 0.11244517728588285 '\n",
      "'training accuracy is 0.9546296296296296 '\n",
      "'Epoch: 50'\n"
     ]
    },
    {
     "name": "stderr",
     "output_type": "stream",
     "text": [
      " 51%|█████     | 50/99 [1:10:53<1:09:40, 85.31s/it]"
     ]
    },
    {
     "name": "stdout",
     "output_type": "stream",
     "text": [
      "'validation loss is 3.7962864510696144 '\n",
      "'validation accuracy is 0.7568869338706903 '\n",
      "'Epoch: 51'\n",
      "'training loss is 0.10736835892473769 '\n",
      "'training accuracy is 0.9560185185185185 '\n",
      "'Epoch: 51'\n"
     ]
    },
    {
     "name": "stderr",
     "output_type": "stream",
     "text": [
      " 52%|█████▏    | 51/99 [1:12:18<1:08:05, 85.12s/it]"
     ]
    },
    {
     "name": "stdout",
     "output_type": "stream",
     "text": [
      "'validation loss is 3.557347149361847 '\n",
      "'validation accuracy is 0.7443786400609441 '\n",
      "'Epoch: 52'\n",
      "'training loss is 0.10406007665216935 '\n",
      "'training accuracy is 0.9564814814814815 '\n",
      "'Epoch: 52'\n"
     ]
    },
    {
     "name": "stderr",
     "output_type": "stream",
     "text": [
      " 53%|█████▎    | 52/99 [1:13:42<1:06:31, 84.93s/it]"
     ]
    },
    {
     "name": "stdout",
     "output_type": "stream",
     "text": [
      "'validation loss is 2.83867599613785 '\n",
      "'validation accuracy is 0.7477330253360529 '\n",
      "'Epoch: 53'\n",
      "'training loss is 0.075674347833911 '\n",
      "'training accuracy is 0.9726851851851852 '\n",
      "'Epoch: 53'\n"
     ]
    },
    {
     "name": "stderr",
     "output_type": "stream",
     "text": [
      " 54%|█████▎    | 53/99 [1:15:08<1:05:10, 85.02s/it]"
     ]
    },
    {
     "name": "stdout",
     "output_type": "stream",
     "text": [
      "'validation loss is 3.623365328895807 '\n",
      "'validation accuracy is 0.7399798491140982 '\n",
      "'Epoch: 54'\n",
      "'training loss is 0.0731406616825186 '\n",
      "'training accuracy is 0.9699074074074074 '\n",
      "'Epoch: 54'\n"
     ]
    },
    {
     "name": "stderr",
     "output_type": "stream",
     "text": [
      " 55%|█████▍    | 54/99 [1:16:33<1:03:44, 85.00s/it]"
     ]
    },
    {
     "name": "stdout",
     "output_type": "stream",
     "text": [
      "'validation loss is 5.0966961163529225 '\n",
      "'validation accuracy is 0.7431806453198339 '\n",
      "'Epoch: 55'\n",
      "'training loss is 0.09867853502835373 '\n",
      "'training accuracy is 0.9574074074074074 '\n",
      "'Epoch: 55'\n"
     ]
    },
    {
     "name": "stderr",
     "output_type": "stream",
     "text": [
      " 56%|█████▌    | 55/99 [1:17:58<1:02:20, 85.02s/it]"
     ]
    },
    {
     "name": "stdout",
     "output_type": "stream",
     "text": [
      "'validation loss is 4.740659737525213 '\n",
      "'validation accuracy is 0.737964760523923 '\n",
      "'Epoch: 56'\n",
      "'training loss is 0.09158336518877123 '\n",
      "'training accuracy is 0.9643518518518519 '\n",
      "'Epoch: 56'\n"
     ]
    },
    {
     "name": "stderr",
     "output_type": "stream",
     "text": [
      " 57%|█████▋    | 56/99 [1:19:23<1:01:04, 85.21s/it]"
     ]
    },
    {
     "name": "stdout",
     "output_type": "stream",
     "text": [
      "'validation loss is 4.428749711677621 '\n",
      "'validation accuracy is 0.7505774949008429 '\n",
      "'Epoch: 57'\n",
      "'training loss is 0.10077043792577776 '\n",
      "'training accuracy is 0.9611111111111111 '\n",
      "'Epoch: 57'\n"
     ]
    },
    {
     "name": "stderr",
     "output_type": "stream",
     "text": [
      " 58%|█████▊    | 57/99 [1:20:49<59:42, 85.29s/it]  "
     ]
    },
    {
     "name": "stdout",
     "output_type": "stream",
     "text": [
      "'validation loss is 3.7402551368951094 '\n",
      "'validation accuracy is 0.7528014646253656 '\n",
      "'Epoch: 58'\n",
      "'training loss is 0.05480263709012426 '\n",
      "'training accuracy is 0.9787037037037037 '\n",
      "'Epoch: 58'\n"
     ]
    },
    {
     "name": "stderr",
     "output_type": "stream",
     "text": [
      " 59%|█████▊    | 58/99 [1:22:15<58:23, 85.45s/it]"
     ]
    },
    {
     "name": "stdout",
     "output_type": "stream",
     "text": [
      "'validation loss is 5.6366788607442215 '\n",
      "'validation accuracy is 0.7410058240975106 '\n",
      "'Epoch: 59'\n",
      "'training loss is 0.08965322667225345 '\n",
      "'training accuracy is 0.9629629629629629 '\n",
      "'Epoch: 59'\n"
     ]
    },
    {
     "name": "stderr",
     "output_type": "stream",
     "text": [
      " 60%|█████▉    | 59/99 [1:23:40<56:52, 85.31s/it]"
     ]
    },
    {
     "name": "stdout",
     "output_type": "stream",
     "text": [
      "'validation loss is 5.125885894498839 '\n",
      "'validation accuracy is 0.7328225984813113 '\n",
      "'Epoch: 60'\n",
      "'training loss is 0.06267812523431081 '\n",
      "'training accuracy is 0.975 '\n",
      "'Epoch: 60'\n"
     ]
    },
    {
     "name": "stderr",
     "output_type": "stream",
     "text": [
      " 61%|██████    | 60/99 [1:25:05<55:26, 85.30s/it]"
     ]
    },
    {
     "name": "stdout",
     "output_type": "stream",
     "text": [
      "'validation loss is 5.06227063946028 '\n",
      "'validation accuracy is 0.749434792224707 '\n",
      "'Epoch: 61'\n",
      "'training loss is 0.08977420996586541 '\n",
      "'training accuracy is 0.9703703703703703 '\n",
      "'Epoch: 61'\n"
     ]
    },
    {
     "name": "stderr",
     "output_type": "stream",
     "text": [
      " 62%|██████▏   | 61/99 [1:26:29<53:52, 85.07s/it]"
     ]
    },
    {
     "name": "stdout",
     "output_type": "stream",
     "text": [
      "'validation loss is 4.778403479360829 '\n",
      "'validation accuracy is 0.7407969429631632 '\n",
      "'Epoch: 62'\n",
      "'training loss is 0.0748252529560358 '\n",
      "'training accuracy is 0.9717592592592592 '\n",
      "'Epoch: 62'\n"
     ]
    },
    {
     "name": "stderr",
     "output_type": "stream",
     "text": [
      " 63%|██████▎   | 62/99 [1:27:55<52:29, 85.12s/it]"
     ]
    },
    {
     "name": "stdout",
     "output_type": "stream",
     "text": [
      "'validation loss is 4.109996605786378 '\n",
      "'validation accuracy is 0.7378418892684245 '\n",
      "'Epoch: 63'\n",
      "'training loss is 0.06388627263489947 '\n",
      "'training accuracy is 0.9740740740740741 '\n",
      "'Epoch: 63'\n"
     ]
    },
    {
     "name": "stderr",
     "output_type": "stream",
     "text": [
      " 64%|██████▎   | 63/99 [1:29:21<51:12, 85.35s/it]"
     ]
    },
    {
     "name": "stdout",
     "output_type": "stream",
     "text": [
      "'validation loss is 4.727393185194149 '\n",
      "'validation accuracy is 0.7485255449340181 '\n",
      "'Epoch: 64'\n",
      "'training loss is 0.08497948250979698 '\n",
      "'training accuracy is 0.9731481481481481 '\n",
      "'Epoch: 64'\n"
     ]
    },
    {
     "name": "stderr",
     "output_type": "stream",
     "text": [
      " 65%|██████▍   | 64/99 [1:30:45<49:39, 85.13s/it]"
     ]
    },
    {
     "name": "stdout",
     "output_type": "stream",
     "text": [
      "'validation loss is 4.080133855520697 '\n",
      "'validation accuracy is 0.7445752340697417 '\n",
      "'Epoch: 65'\n",
      "'training loss is 0.09034807512227615 '\n",
      "'training accuracy is 0.9652777777777778 '\n",
      "'Epoch: 65'\n"
     ]
    },
    {
     "name": "stderr",
     "output_type": "stream",
     "text": [
      " 66%|██████▌   | 65/99 [1:32:10<48:15, 85.16s/it]"
     ]
    },
    {
     "name": "stdout",
     "output_type": "stream",
     "text": [
      "'validation loss is 4.835907399518191 '\n",
      "'validation accuracy is 0.7405880618288158 '\n",
      "'Epoch: 66'\n",
      "'training loss is 0.047293066998214256 '\n",
      "'training accuracy is 0.9833333333333333 '\n",
      "'Epoch: 66'\n"
     ]
    },
    {
     "name": "stderr",
     "output_type": "stream",
     "text": [
      " 67%|██████▋   | 66/99 [1:33:35<46:48, 85.12s/it]"
     ]
    },
    {
     "name": "stdout",
     "output_type": "stream",
     "text": [
      "'validation loss is 5.437030658687994 '\n",
      "'validation accuracy is 0.7354274690978793 '\n",
      "'Epoch: 67'\n",
      "'training loss is 0.07080070640186814 '\n",
      "'training accuracy is 0.9712962962962963 '\n",
      "'Epoch: 67'\n"
     ]
    },
    {
     "name": "stderr",
     "output_type": "stream",
     "text": [
      " 68%|██████▊   | 67/99 [1:35:01<45:27, 85.24s/it]"
     ]
    },
    {
     "name": "stdout",
     "output_type": "stream",
     "text": [
      "'validation loss is 5.378719876831414 '\n",
      "'validation accuracy is 0.7258312240434472 '\n",
      "'Epoch: 68'\n",
      "'training loss is 0.06374568699215552 '\n",
      "'training accuracy is 0.9740740740740741 '\n",
      "'Epoch: 68'\n"
     ]
    },
    {
     "name": "stderr",
     "output_type": "stream",
     "text": [
      " 69%|██████▊   | 68/99 [1:36:26<44:00, 85.19s/it]"
     ]
    },
    {
     "name": "stdout",
     "output_type": "stream",
     "text": [
      "'validation loss is 5.167688235247598 '\n",
      "'validation accuracy is 0.7371108052982085 '\n",
      "'Epoch: 69'\n",
      "'training loss is 0.059760509738680044 '\n",
      "'training accuracy is 0.9768518518518519 '\n",
      "'Epoch: 69'\n"
     ]
    },
    {
     "name": "stderr",
     "output_type": "stream",
     "text": [
      " 70%|██████▉   | 69/99 [1:37:51<42:32, 85.09s/it]"
     ]
    },
    {
     "name": "stdout",
     "output_type": "stream",
     "text": [
      "'validation loss is 7.040115224299395 '\n",
      "'validation accuracy is 0.7184343744624383 '\n",
      "'Epoch: 70'\n",
      "'training loss is 0.08154423413407345 '\n",
      "'training accuracy is 0.9712962962962963 '\n",
      "'Epoch: 70'\n"
     ]
    },
    {
     "name": "stderr",
     "output_type": "stream",
     "text": [
      " 71%|███████   | 70/99 [1:39:16<41:11, 85.21s/it]"
     ]
    },
    {
     "name": "stdout",
     "output_type": "stream",
     "text": [
      "'validation loss is 4.227371152474222 '\n",
      "'validation accuracy is 0.7444892241908928 '\n",
      "'Epoch: 71'\n",
      "'training loss is 0.052081162455774356 '\n",
      "'training accuracy is 0.9791666666666666 '\n",
      "'Epoch: 71'\n"
     ]
    },
    {
     "name": "stderr",
     "output_type": "stream",
     "text": [
      " 72%|███████▏  | 71/99 [1:40:41<39:40, 85.03s/it]"
     ]
    },
    {
     "name": "stdout",
     "output_type": "stream",
     "text": [
      "'validation loss is 5.2556140994667535 '\n",
      "'validation accuracy is 0.7452694566633082 '\n",
      "'Epoch: 72'\n",
      "'training loss is 0.06289919483330839 '\n",
      "'training accuracy is 0.9805555555555555 '\n",
      "'Epoch: 72'\n"
     ]
    },
    {
     "name": "stderr",
     "output_type": "stream",
     "text": [
      " 73%|███████▎  | 72/99 [1:42:08<38:31, 85.60s/it]"
     ]
    },
    {
     "name": "stdout",
     "output_type": "stream",
     "text": [
      "'validation loss is 5.186403727397847 '\n",
      "'validation accuracy is 0.7333878062566044 '\n",
      "'Epoch: 73'\n",
      "'training loss is 0.046634475216178646 '\n",
      "'training accuracy is 0.9837962962962963 '\n",
      "'Epoch: 73'\n"
     ]
    },
    {
     "name": "stderr",
     "output_type": "stream",
     "text": [
      " 74%|███████▎  | 73/99 [1:43:35<37:19, 86.12s/it]"
     ]
    },
    {
     "name": "stdout",
     "output_type": "stream",
     "text": [
      "'validation loss is 5.77579124941436 '\n",
      "'validation accuracy is 0.7528383260020151 '\n",
      "'Epoch: 74'\n",
      "'training loss is 0.052311599261606195 '\n",
      "'training accuracy is 0.9800925925925926 '\n",
      "'Epoch: 74'\n"
     ]
    },
    {
     "name": "stderr",
     "output_type": "stream",
     "text": [
      " 75%|███████▍  | 74/99 [1:45:00<35:45, 85.82s/it]"
     ]
    },
    {
     "name": "stdout",
     "output_type": "stream",
     "text": [
      "'validation loss is 6.204230004804459 '\n",
      "'validation accuracy is 0.7443172044331949 '\n",
      "'Epoch: 75'\n",
      "'training loss is 0.06143625262728634 '\n",
      "'training accuracy is 0.9800925925925926 '\n",
      "'Epoch: 75'\n"
     ]
    },
    {
     "name": "stderr",
     "output_type": "stream",
     "text": [
      " 76%|███████▌  | 75/99 [1:46:25<34:10, 85.45s/it]"
     ]
    },
    {
     "name": "stdout",
     "output_type": "stream",
     "text": [
      "'validation loss is 6.8152522146538175 '\n",
      "'validation accuracy is 0.7152151475683779 '\n",
      "'Epoch: 76'\n",
      "'training loss is 0.06640838269713281 '\n",
      "'training accuracy is 0.9777777777777777 '\n",
      "'Epoch: 76'\n"
     ]
    },
    {
     "name": "stderr",
     "output_type": "stream",
     "text": [
      " 77%|███████▋  | 76/99 [1:47:49<32:36, 85.08s/it]"
     ]
    },
    {
     "name": "stdout",
     "output_type": "stream",
     "text": [
      "'validation loss is 4.382239135658572 '\n",
      "'validation accuracy is 0.7431314968176345 '\n",
      "'Epoch: 77'\n",
      "'training loss is 0.05759807515791612 '\n",
      "'training accuracy is 0.9810185185185185 '\n",
      "'Epoch: 77'\n"
     ]
    },
    {
     "name": "stderr",
     "output_type": "stream",
     "text": [
      " 78%|███████▊  | 77/99 [1:49:14<31:12, 85.13s/it]"
     ]
    },
    {
     "name": "stdout",
     "output_type": "stream",
     "text": [
      "'validation loss is 5.509929659293348 '\n",
      "'validation accuracy is 0.7416816160027523 '\n",
      "'Epoch: 78'\n",
      "'training loss is 0.06428366555020738 '\n",
      "'training accuracy is 0.9763888888888889 '\n",
      "'Epoch: 78'\n"
     ]
    },
    {
     "name": "stderr",
     "output_type": "stream",
     "text": [
      " 79%|███████▉  | 78/99 [1:50:40<29:49, 85.19s/it]"
     ]
    },
    {
     "name": "stdout",
     "output_type": "stream",
     "text": [
      "'validation loss is 4.800920084085927 '\n",
      "'validation accuracy is 0.7382719386626693 '\n",
      "'Epoch: 79'\n",
      "'training loss is 0.08163655203570766 '\n",
      "'training accuracy is 0.9731481481481481 '\n",
      "'Epoch: 79'\n"
     ]
    },
    {
     "name": "stderr",
     "output_type": "stream",
     "text": [
      " 80%|███████▉  | 79/99 [1:52:05<28:22, 85.13s/it]"
     ]
    },
    {
     "name": "stdout",
     "output_type": "stream",
     "text": [
      "'validation loss is 4.248336607765481 '\n",
      "'validation accuracy is 0.739506794780429 '\n",
      "'Epoch: 80'\n",
      "'training loss is 0.03310279874591891 '\n",
      "'training accuracy is 0.9875 '\n",
      "'Epoch: 80'\n"
     ]
    },
    {
     "name": "stderr",
     "output_type": "stream",
     "text": [
      " 81%|████████  | 80/99 [1:53:30<26:56, 85.10s/it]"
     ]
    },
    {
     "name": "stdout",
     "output_type": "stream",
     "text": [
      "'validation loss is 7.287985360076379 '\n",
      "'validation accuracy is 0.7498156931167522 '\n",
      "'Epoch: 81'\n",
      "'training loss is 0.07296493548745493 '\n",
      "'training accuracy is 0.9726851851851852 '\n",
      "'Epoch: 81'\n"
     ]
    },
    {
     "name": "stderr",
     "output_type": "stream",
     "text": [
      " 82%|████████▏ | 81/99 [1:54:54<25:29, 84.96s/it]"
     ]
    },
    {
     "name": "stdout",
     "output_type": "stream",
     "text": [
      "'validation loss is 6.507862678112186 '\n",
      "'validation accuracy is 0.7228946010370334 '\n",
      "'Epoch: 82'\n",
      "'training loss is 0.045660416857052445 '\n",
      "'training accuracy is 0.9819444444444444 '\n",
      "'Epoch: 82'\n"
     ]
    },
    {
     "name": "stderr",
     "output_type": "stream",
     "text": [
      " 83%|████████▎ | 82/99 [1:56:19<24:02, 84.85s/it]"
     ]
    },
    {
     "name": "stdout",
     "output_type": "stream",
     "text": [
      "'validation loss is 7.25637066628869 '\n",
      "'validation accuracy is 0.7355134789767281 '\n",
      "'Epoch: 83'\n",
      "'training loss is 0.050952941364080184 '\n",
      "'training accuracy is 0.9810185185185185 '\n",
      "'Epoch: 83'\n"
     ]
    },
    {
     "name": "stderr",
     "output_type": "stream",
     "text": [
      " 84%|████████▍ | 83/99 [1:57:43<22:34, 84.69s/it]"
     ]
    },
    {
     "name": "stdout",
     "output_type": "stream",
     "text": [
      "'validation loss is 5.9749365137612696 '\n",
      "'validation accuracy is 0.7342110436684443 '\n",
      "'Epoch: 84'\n",
      "'training loss is 0.055494319113988756 '\n",
      "'training accuracy is 0.9791666666666666 '\n",
      "'Epoch: 84'\n"
     ]
    },
    {
     "name": "stderr",
     "output_type": "stream",
     "text": [
      " 85%|████████▍ | 84/99 [1:59:09<21:16, 85.11s/it]"
     ]
    },
    {
     "name": "stdout",
     "output_type": "stream",
     "text": [
      "'validation loss is 6.238524866018675 '\n",
      "'validation accuracy is 0.7327795935418868 '\n",
      "'Epoch: 85'\n",
      "'training loss is 0.04667788905669922 '\n",
      "'training accuracy is 0.9842592592592593 '\n",
      "'Epoch: 85'\n"
     ]
    },
    {
     "name": "stderr",
     "output_type": "stream",
     "text": [
      " 86%|████████▌ | 85/99 [2:00:34<19:47, 84.83s/it]"
     ]
    },
    {
     "name": "stdout",
     "output_type": "stream",
     "text": [
      "'validation loss is 5.8864128640965045 '\n",
      "'validation accuracy is 0.7330683409923082 '\n",
      "'Epoch: 86'\n",
      "'training loss is 0.05763715025912996 '\n",
      "'training accuracy is 0.9819444444444444 '\n",
      "'Epoch: 86'\n"
     ]
    },
    {
     "name": "stderr",
     "output_type": "stream",
     "text": [
      " 87%|████████▋ | 86/99 [2:01:58<18:21, 84.75s/it]"
     ]
    },
    {
     "name": "stdout",
     "output_type": "stream",
     "text": [
      "'validation loss is 6.389399830604783 '\n",
      "'validation accuracy is 0.7394207849015801 '\n",
      "'Epoch: 87'\n",
      "'training loss is 0.04075526468929643 '\n",
      "'training accuracy is 0.9861111111111112 '\n",
      "'Epoch: 87'\n"
     ]
    },
    {
     "name": "stderr",
     "output_type": "stream",
     "text": [
      " 88%|████████▊ | 87/99 [2:03:23<16:56, 84.73s/it]"
     ]
    },
    {
     "name": "stdout",
     "output_type": "stream",
     "text": [
      "'validation loss is 6.571315851274915 '\n",
      "'validation accuracy is 0.7222618140712161 '\n",
      "'Epoch: 88'\n",
      "'training loss is 0.042329963608123355 '\n",
      "'training accuracy is 0.987037037037037 '\n",
      "'Epoch: 88'\n"
     ]
    },
    {
     "name": "stderr",
     "output_type": "stream",
     "text": [
      " 89%|████████▉ | 88/99 [2:04:47<15:31, 84.70s/it]"
     ]
    },
    {
     "name": "stdout",
     "output_type": "stream",
     "text": [
      "'validation loss is 7.828531627222345 '\n",
      "'validation accuracy is 0.7272872484211044 '\n",
      "'Epoch: 89'\n",
      "'training loss is 0.05879819711723685 '\n",
      "'training accuracy is 0.9824074074074074 '\n",
      "'Epoch: 89'\n"
     ]
    },
    {
     "name": "stderr",
     "output_type": "stream",
     "text": [
      " 90%|████████▉ | 89/99 [2:06:13<14:09, 84.92s/it]"
     ]
    },
    {
     "name": "stdout",
     "output_type": "stream",
     "text": [
      "'validation loss is 7.2887987327088215 '\n",
      "'validation accuracy is 0.7391504681394835 '\n",
      "'Epoch: 90'\n",
      "'training loss is 0.013861230319034383 '\n",
      "'training accuracy is 0.9972222222222222 '\n",
      "'Epoch: 90'\n"
     ]
    },
    {
     "name": "stderr",
     "output_type": "stream",
     "text": [
      " 91%|█████████ | 90/99 [2:07:38<12:44, 84.91s/it]"
     ]
    },
    {
     "name": "stdout",
     "output_type": "stream",
     "text": [
      "'validation loss is 9.348641480320538 '\n",
      "'validation accuracy is 0.7231587742363551 '\n",
      "'Epoch: 91'\n",
      "'training loss is 0.07908338053999149 '\n",
      "'training accuracy is 0.9717592592592592 '\n",
      "'Epoch: 91'\n"
     ]
    },
    {
     "name": "stderr",
     "output_type": "stream",
     "text": [
      " 92%|█████████▏| 91/99 [2:09:03<11:20, 85.03s/it]"
     ]
    },
    {
     "name": "stdout",
     "output_type": "stream",
     "text": [
      "'validation loss is 5.776503482502982 '\n",
      "'validation accuracy is 0.7497051089868036 '\n",
      "'Epoch: 92'\n",
      "'training loss is 0.06188480916858702 '\n",
      "'training accuracy is 0.9777777777777777 '\n",
      "'Epoch: 92'\n"
     ]
    },
    {
     "name": "stderr",
     "output_type": "stream",
     "text": [
      " 93%|█████████▎| 92/99 [2:10:28<09:54, 84.94s/it]"
     ]
    },
    {
     "name": "stdout",
     "output_type": "stream",
     "text": [
      "'validation loss is 7.280119261039651 '\n",
      "'validation accuracy is 0.7293146241368295 '\n",
      "'Epoch: 93'\n",
      "'training loss is 0.03000312068959834 '\n",
      "'training accuracy is 0.986574074074074 '\n",
      "'Epoch: 93'\n"
     ]
    },
    {
     "name": "stderr",
     "output_type": "stream",
     "text": [
      " 94%|█████████▍| 93/99 [2:11:54<08:31, 85.17s/it]"
     ]
    },
    {
     "name": "stdout",
     "output_type": "stream",
     "text": [
      "'validation loss is 8.270017406121392 '\n",
      "'validation accuracy is 0.7309303811466346 '\n",
      "'Epoch: 94'\n",
      "'training loss is 0.034927704876400734 '\n",
      "'training accuracy is 0.9879629629629629 '\n",
      "'Epoch: 94'\n"
     ]
    },
    {
     "name": "stderr",
     "output_type": "stream",
     "text": [
      " 95%|█████████▍| 94/99 [2:13:19<07:06, 85.25s/it]"
     ]
    },
    {
     "name": "stdout",
     "output_type": "stream",
     "text": [
      "'validation loss is 5.3247580880977505 '\n",
      "'validation accuracy is 0.7109822328164549 '\n",
      "'Epoch: 95'\n",
      "'training loss is 0.062292824009404585 '\n",
      "'training accuracy is 0.9731481481481481 '\n",
      "'Epoch: 95'\n"
     ]
    },
    {
     "name": "stderr",
     "output_type": "stream",
     "text": [
      " 96%|█████████▌| 95/99 [2:14:44<05:40, 85.19s/it]"
     ]
    },
    {
     "name": "stdout",
     "output_type": "stream",
     "text": [
      "'validation loss is 6.463479370695268 '\n",
      "'validation accuracy is 0.741220848794633 '\n",
      "'Epoch: 96'\n",
      "'training loss is 0.05189158527925727 '\n",
      "'training accuracy is 0.9824074074074074 '\n",
      "'Epoch: 96'\n"
     ]
    },
    {
     "name": "stderr",
     "output_type": "stream",
     "text": [
      " 97%|█████████▋| 96/99 [2:16:09<04:15, 85.11s/it]"
     ]
    },
    {
     "name": "stdout",
     "output_type": "stream",
     "text": [
      "'validation loss is 5.13815097977317 '\n",
      "'validation accuracy is 0.7540486078686752 '\n",
      "'Epoch: 97'\n",
      "'training loss is 0.020030411440329028 '\n",
      "'training accuracy is 0.9953703703703703 '\n",
      "'Epoch: 97'\n"
     ]
    },
    {
     "name": "stderr",
     "output_type": "stream",
     "text": [
      " 98%|█████████▊| 97/99 [2:17:34<02:50, 85.06s/it]"
     ]
    },
    {
     "name": "stdout",
     "output_type": "stream",
     "text": [
      "'validation loss is 9.458524313091342 '\n",
      "'validation accuracy is 0.7197183790823974 '\n",
      "'Epoch: 98'\n",
      "'training loss is 0.06036106551306488 '\n",
      "'training accuracy is 0.9800925925925926 '\n",
      "'Epoch: 98'\n"
     ]
    },
    {
     "name": "stderr",
     "output_type": "stream",
     "text": [
      " 99%|█████████▉| 98/99 [2:18:59<01:25, 85.05s/it]"
     ]
    },
    {
     "name": "stdout",
     "output_type": "stream",
     "text": [
      "'validation loss is 7.0382237151802265 '\n",
      "'validation accuracy is 0.7522424004128474 '\n",
      "'Epoch: 99'\n",
      "'training loss is 0.03486081093336704 '\n",
      "'training accuracy is 0.9888888888888889 '\n",
      "'Epoch: 99'\n"
     ]
    },
    {
     "name": "stderr",
     "output_type": "stream",
     "text": [
      "100%|██████████| 99/99 [2:20:24<00:00, 85.09s/it]"
     ]
    },
    {
     "name": "stdout",
     "output_type": "stream",
     "text": [
      "'validation loss is 4.873258811360129 '\n",
      "'validation accuracy is 0.719343621753127 '\n"
     ]
    },
    {
     "name": "stderr",
     "output_type": "stream",
     "text": [
      "\n"
     ]
    }
   ],
   "source": [
    "for i in tqdm(range(1, 100)):\n",
    "    trn_l, trn_a = fit_model(i, model, train_dataloader)\n",
    "    val_l, val_a = fit_model(i, model, valid_dataloader, phase = 'validation')\n",
    "    trn_losses.append(trn_l); trn_acc.append(trn_a)\n",
    "    val_losses.append(val_l); val_acc.append(val_a)\n"
   ]
  },
  {
   "cell_type": "code",
   "execution_count": 26,
   "id": "5e7ab7b9",
   "metadata": {},
   "outputs": [
    {
     "data": {
      "text/plain": [
       "[<matplotlib.lines.Line2D at 0x7f51ef1c6940>]"
      ]
     },
     "execution_count": 26,
     "metadata": {},
     "output_type": "execute_result"
    },
    {
     "data": {
      "image/png": "[encoded data removed]",
      "text/plain": [
       "<Figure size 640x480 with 1 Axes>"
      ]
     },
     "metadata": {},
     "output_type": "display_data"
    }
   ],
   "source": [
    "plt.plot(val_acc)"
   ]
  },
  {
   "cell_type": "code",
   "execution_count": 44,
   "id": "c758bc7c",
   "metadata": {},
   "outputs": [
    {
     "name": "stderr",
     "output_type": "stream",
     "text": [
      "/tmp/ipykernel_3818362/3814926896.py:32: UserWarning: Implicit dimension choice for softmax has been deprecated. Change the call to include dim=X as an argument.\n",
      "  return F.softmax(x)\n"
     ]
    }
   ],
   "source": [
    "pred_y = model(train_dl[2][0].unsqueeze(0).cuda())"
   ]
  },
  {
   "cell_type": "code",
   "execution_count": 45,
   "id": "35b5857b",
   "metadata": {},
   "outputs": [
    {
     "data": {
      "text/plain": [
       "array([[1., 0.]], dtype=float32)"
      ]
     },
     "execution_count": 45,
     "metadata": {},
     "output_type": "execute_result"
    }
   ],
   "source": [
    "torch.round(pred_y).cpu().detach().numpy()"
   ]
  },
  {
   "cell_type": "markdown",
   "id": "2ddd6c99",
   "metadata": {},
   "source": []
  },
  {
   "cell_type": "code",
   "execution_count": null,
   "id": "784d0ec1",
   "metadata": {},
   "outputs": [],
   "source": []
  },
  {
   "cell_type": "code",
   "execution_count": null,
   "id": "0d25e088",
   "metadata": {},
   "outputs": [],
   "source": []
  }
 ],
 "metadata": {
  "kernelspec": {
   "display_name": "Python 3 (ipykernel)",
   "language": "python",
   "name": "python3"
  },
  "language_info": {
   "codemirror_mode": {
    "name": "ipython",
    "version": 3
   },
   "file_extension": ".py",
   "mimetype": "text/x-python",
   "name": "python",
   "nbconvert_exporter": "python",
   "pygments_lexer": "ipython3",
   "version": "3.8.10"
  }
 },
 "nbformat": 4,
 "nbformat_minor": 5
}
